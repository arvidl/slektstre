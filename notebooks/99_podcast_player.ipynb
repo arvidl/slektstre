{
 "cells": [
  {
   "cell_type": "markdown",
   "metadata": {},
   "source": [
    "# 🎧 Podcast-spiller / Podcast Player\n",
    "\n",
    "Denne notebooken lar deg spille av podcasten direkte i Jupyter Notebook.\n",
    "\n",
    "This notebook allows you to play the podcast directly in Jupyter Notebook.\n",
    "\n",
    "## 🇳🇴 Norsk\n",
    "\n",
    "### Spill av podcasten\n",
    "\n",
    "Kjør cellen under for å spille av podcasten:\n"
   ]
  },
  {
   "cell_type": "code",
   "execution_count": null,
   "metadata": {},
   "outputs": [],
   "source": [
    "import IPython.display as ipd\n",
    "import os\n",
    "\n",
    "# Sjekk om podcast-filen eksisterer\n",
    "mp3_path = \"../podcast/Slektstre_med_Python_og_Grafteori__Slik_Analyserer_du_Din_Famil.mp3\"\n",
    "m4a_path = \"../podcast/Slektstre_med_Python_og_Grafteori__Slik_Analyserer_du_Din_Famil.m4a\"\n",
    "\n",
    "if os.path.exists(mp3_path):\n",
    "    print(\"🎧 Spiller av podcasten (MP3)...\")\n",
    "    display(ipd.Audio(mp3_path))\n",
    "elif os.path.exists(m4a_path):\n",
    "    print(\"🎧 Spiller av podcasten (M4A)...\")\n",
    "    display(ipd.Audio(m4a_path))\n",
    "else:\n",
    "    print(\"❌ Podcast-fil ikke funnet. Sjekk at du er i riktig mappe.\")\n",
    "    print(\"📁 Forventet sti:\", mp3_path)\n",
    "    print(\"📁 Eller:\", m4a_path)\n"
   ]
  },
  {
   "cell_type": "markdown",
   "metadata": {},
   "source": [
    "## 🇬🇧 English\n",
    "\n",
    "### Play the podcast\n",
    "\n",
    "Run the cell below to play the podcast:\n"
   ]
  },
  {
   "cell_type": "code",
   "execution_count": null,
   "metadata": {},
   "outputs": [],
   "source": [
    "# Alternative: Play both formats\n",
    "print(\"🎧 Available podcast formats:\")\n",
    "print(\"\\n📱 MP3 (Universal compatibility):\")\n",
    "if os.path.exists(mp3_path):\n",
    "    display(ipd.Audio(mp3_path))\n",
    "else:\n",
    "    print(\"❌ MP3 file not found\")\n",
    "\n",
    "print(\"\\n🍎 M4A (High quality):\")\n",
    "if os.path.exists(m4a_path):\n",
    "    display(ipd.Audio(m4a_path))\n",
    "else:\n",
    "    print(\"❌ M4A file not found\")\n"
   ]
  },
  {
   "cell_type": "markdown",
   "metadata": {},
   "source": [
    "## 📝 Merk / Note\n",
    "\n",
    "**🇳🇴 Norsk:**\n",
    "- Podcasten er ca. 22 minutter lang\n",
    "- Du kan pause, spol fremover/bakover ved å bruke kontrollene\n",
    "- Hvis lyden ikke spiller, sjekk at podcast-mappen eksisterer\n",
    "\n",
    "**🇬🇧 English:**\n",
    "- The podcast is approximately 22 minutes long\n",
    "- You can pause, fast-forward/rewind using the controls\n",
    "- If audio doesn't play, check that the podcast folder exists\n"
   ]
  },
  {
   "cell_type": "markdown",
   "metadata": {},
   "source": [
    "# 🎧 Podcast-spiller / Podcast Player\n",
    "\n",
    "Denne notebooken lar deg spille av podcasten direkte i Jupyter Notebook.\n",
    "\n",
    "This notebook allows you to play the podcast directly in Jupyter Notebook.\n",
    "\n",
    "## 🇳🇴 Norsk\n",
    "\n",
    "### Spill av podcasten\n",
    "\n",
    "Kjør cellen under for å spille av podcasten:\n"
   ]
  },
  {
   "cell_type": "code",
   "execution_count": null,
   "metadata": {},
   "outputs": [],
   "source": [
    "import IPython.display as ipd\n",
    "import os\n",
    "\n",
    "# Sjekk om podcast-filen eksisterer\n",
    "mp3_path = \"../podcast/Slektstre_med_Python_og_Grafteori__Slik_Analyserer_du_Din_Famil.mp3\"\n",
    "m4a_path = \"../podcast/Slektstre_med_Python_og_Grafteori__Slik_Analyserer_du_Din_Famil.m4a\"\n",
    "\n",
    "if os.path.exists(mp3_path):\n",
    "    print(\"🎧 Spiller av podcasten (MP3)...\")\n",
    "    display(ipd.Audio(mp3_path))\n",
    "elif os.path.exists(m4a_path):\n",
    "    print(\"🎧 Spiller av podcasten (M4A)...\")\n",
    "    display(ipd.Audio(m4a_path))\n",
    "else:\n",
    "    print(\"❌ Podcast-fil ikke funnet. Sjekk at du er i riktig mappe.\")\n",
    "    print(\"📁 Forventet sti:\", mp3_path)\n",
    "    print(\"📁 Eller:\", m4a_path)\n"
   ]
  },
  {
   "cell_type": "markdown",
   "metadata": {},
   "source": [
    "## 🇬🇧 English\n",
    "\n",
    "### Play the podcast\n",
    "\n",
    "Run the cell below to play the podcast:\n"
   ]
  },
  {
   "cell_type": "code",
   "execution_count": null,
   "metadata": {},
   "outputs": [],
   "source": [
    "# Alternative: Play both formats\n",
    "print(\"🎧 Available podcast formats:\")\n",
    "print(\"\\n📱 MP3 (Universal compatibility):\")\n",
    "if os.path.exists(mp3_path):\n",
    "    display(ipd.Audio(mp3_path))\n",
    "else:\n",
    "    print(\"❌ MP3 file not found\")\n",
    "\n",
    "print(\"\\n🍎 M4A (High quality):\")\n",
    "if os.path.exists(m4a_path):\n",
    "    display(ipd.Audio(m4a_path))\n",
    "else:\n",
    "    print(\"❌ M4A file not found\")\n"
   ]
  },
  {
   "cell_type": "markdown",
   "metadata": {},
   "source": [
    "## 📝 Merk / Note\n",
    "\n",
    "**🇳🇴 Norsk:**\n",
    "- Podcasten er ca. 22 minutter lang\n",
    "- Du kan pause, spol fremover/bakover ved å bruke kontrollene\n",
    "- Hvis lyden ikke spiller, sjekk at podcast-mappen eksisterer\n",
    "\n",
    "**🇬🇧 English:**\n",
    "- The podcast is approximately 22 minutes long\n",
    "- You can pause, fast-forward/rewind using the controls\n",
    "- If audio doesn't play, check that the podcast folder exists\n"
   ]
  },
  {
   "cell_type": "markdown",
   "metadata": {},
   "source": []
  }
 ],
 "metadata": {
  "kernelspec": {
   "display_name": "slektstre",
   "language": "python",
   "name": "python3"
  },
  "language_info": {
   "codemirror_mode": {
    "name": "ipython",
    "version": 3
   },
   "file_extension": ".py",
   "mimetype": "text/x-python",
   "name": "python",
   "nbconvert_exporter": "python",
   "pygments_lexer": "ipython3",
   "version": "3.12.11"
  }
 },
 "nbformat": 4,
 "nbformat_minor": 2
}
