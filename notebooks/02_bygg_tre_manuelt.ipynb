{
  "cells": [
    {
      "cell_type": "markdown",
      "metadata": {},
      "source": [
        "# Bygge slektstre manuelt\n",
        "\n",
        "I denne notebooken lærer du hvordan du bygger et slektstre programmatisk ved å legge til personer og relasjoner en etter en.\n",
        "\n",
        "## Importer biblioteker\n"
      ]
    },
    {
      "cell_type": "code",
      "execution_count": 1,
      "metadata": {},
      "outputs": [
        {
          "name": "stdout",
          "output_type": "stream",
          "text": [
            "🔄 ALTERNATIV STRATEGI: Oppretter helt nytt slektstre...\n",
            "✅ Biblioteker importert!\n",
            "✅ Nytt tomt slektstre opprettet med navn 'manuelt_slektstre'!\n",
            "Antall personer: 0\n",
            "✅ Slektstreet er tomt - vi kan begynne!\n"
          ]
        }
      ],
      "source": [
        "# ALTERNATIV STRATEGI - Opprett et HELT NYTT slektstre med unikt navn\n",
        "print(\"🔄 ALTERNATIV STRATEGI: Oppretter helt nytt slektstre...\")\n",
        "\n",
        "# Importer biblioteker\n",
        "import sys\n",
        "sys.path.append('../src')\n",
        "\n",
        "from models import Person, Ekteskap, Gender\n",
        "from tree import Slektstre\n",
        "from datetime import date\n",
        "import matplotlib.pyplot as plt\n",
        "\n",
        "print(\"✅ Biblioteker importert!\")\n",
        "\n",
        "# OPPRETT ET HELT NYTT SLEKTSTRE MED UNIKT NAVN\n",
        "manuelt_slektstre = Slektstre()  # Bruk unikt navn i stedet for 'slektstre'\n",
        "print(\"✅ Nytt tomt slektstre opprettet med navn 'manuelt_slektstre'!\")\n",
        "\n",
        "# SJEKK AT SLEKTSTREET ER HELT TOMT\n",
        "alle_personer = manuelt_slektstre.get_all_persons()\n",
        "print(f\"Antall personer: {len(alle_personer)}\")\n",
        "\n",
        "if alle_personer:\n",
        "    print(\"❌ FEIL: Det finnes fortsatt personer i slektstreet!\")\n",
        "    for person in alle_personer:\n",
        "        print(f\"  - {person.id}: {person.fullt_navn}\")\n",
        "else:\n",
        "    print(\"✅ Slektstreet er tomt - vi kan begynne!\")\n"
      ]
    },
    {
      "cell_type": "code",
      "execution_count": 2,
      "metadata": {},
      "outputs": [
        {
          "name": "stdout",
          "output_type": "stream",
          "text": [
            "🗑️ DRAMATISK OPPRYDDING - Sletter alle variabler...\n",
            "✅ Alle variabler slettet!\n",
            "✅ Biblioteker importert på nytt!\n",
            "✅ Nytt tomt slektstre opprettet!\n"
          ]
        }
      ],
      "source": [
        "# DRAMATISK OPPRYDDING - Slett alle variabler og start helt på nytt\n",
        "print(\"🗑️ DRAMATISK OPPRYDDING - Sletter alle variabler...\")\n",
        "\n",
        "# Slett alle eksisterende variabler\n",
        "%reset -f\n",
        "\n",
        "print(\"✅ Alle variabler slettet!\")\n",
        "\n",
        "# Importer biblioteker på nytt\n",
        "import sys\n",
        "sys.path.append('../src')\n",
        "\n",
        "from models import Person, Ekteskap, Gender\n",
        "from tree import Slektstre\n",
        "from datetime import date\n",
        "import matplotlib.pyplot as plt\n",
        "\n",
        "print(\"✅ Biblioteker importert på nytt!\")\n",
        "\n",
        "# OPPRETT ET HELT NYTT SLEKTSTRE\n",
        "slektstre = Slektstre()\n",
        "print(\"✅ Nytt tomt slektstre opprettet!\")\n"
      ]
    },
    {
      "cell_type": "code",
      "execution_count": 3,
      "metadata": {},
      "outputs": [
        {
          "name": "stdout",
          "output_type": "stream",
          "text": [
            "🔍 SJEKK: Er slektstreet tomt?\n",
            "Antall personer: 0\n",
            "✅ Slektstreet er tomt - vi kan begynne!\n"
          ]
        }
      ],
      "source": [
        "# SJEKK AT SLEKTSTREET ER HELT TOMT\n",
        "print(\"🔍 SJEKK: Er slektstreet tomt?\")\n",
        "alle_personer = slektstre.get_all_persons()\n",
        "print(f\"Antall personer: {len(alle_personer)}\")\n",
        "\n",
        "if alle_personer:\n",
        "    print(\"❌ FEIL: Det finnes fortsatt personer i slektstreet!\")\n",
        "    for person in alle_personer:\n",
        "        print(f\"  - {person.id}: {person.fullt_navn}\")\n",
        "    print(\"STOPP! Noe er galt. Kjør første celle på nytt.\")\n",
        "    raise Exception(\"Slektstreet er ikke tomt! Kjør første celle på nytt.\")\n",
        "else:\n",
        "    print(\"✅ Slektstreet er tomt - vi kan begynne!\")\n"
      ]
    },
    {
      "cell_type": "code",
      "execution_count": 4,
      "metadata": {},
      "outputs": [
        {
          "name": "stdout",
          "output_type": "stream",
          "text": [
            "🗑️ FORCE DELETE: Sletter alle personer eksplisitt...\n",
            "Fant 0 personer å slette:\n",
            "\n",
            "Antall personer etter sletting: 0\n",
            "✅ Slektstreet er nå HELT tomt!\n"
          ]
        }
      ],
      "source": [
        "# FORCE DELETE ALL PERSONS - Slett alle personer eksplisitt\n",
        "print(\"🗑️ FORCE DELETE: Sletter alle personer eksplisitt...\")\n",
        "\n",
        "# Hent alle personer\n",
        "alle_personer = slektstre.get_all_persons()\n",
        "print(f\"Fant {len(alle_personer)} personer å slette:\")\n",
        "\n",
        "for person in alle_personer:\n",
        "    print(f\"  - Sletter {person.id}: {person.fullt_navn}\")\n",
        "\n",
        "# Slett alle personer\n",
        "for person in alle_personer:\n",
        "    slektstre.remove_person(person.id)\n",
        "\n",
        "# Bekreft at slektstreet er tomt\n",
        "alle_personer_etter = slektstre.get_all_persons()\n",
        "print(f\"\\nAntall personer etter sletting: {len(alle_personer_etter)}\")\n",
        "\n",
        "if alle_personer_etter:\n",
        "    print(\"❌ FEIL: Det finnes fortsatt personer!\")\n",
        "    for person in alle_personer_etter:\n",
        "        print(f\"  - {person.id}: {person.fullt_navn}\")\n",
        "else:\n",
        "    print(\"✅ Slektstreet er nå HELT tomt!\")\n"
      ]
    },
    {
      "cell_type": "markdown",
      "metadata": {},
      "source": [
        "## Opprett et tomt slektstre\n"
      ]
    },
    {
      "cell_type": "code",
      "execution_count": 5,
      "metadata": {},
      "outputs": [
        {
          "name": "stdout",
          "output_type": "stream",
          "text": [
            "🗑️ FORCERER KOMPLETT OPPRYDDING...\n",
            "Tomt slektstre opprettet med 0 personer\n",
            "✅ Slektstreet er HELT tomt og klart for nye personer\n"
          ]
        }
      ],
      "source": [
        "# FORCE OPPRYDDING - Slett alt og start på nytt\n",
        "print(\"🗑️ FORCERER KOMPLETT OPPRYDDING...\")\n",
        "\n",
        "# Opprett et helt nytt slektstre (dette overskriver det gamle)\n",
        "slektstre = Slektstre()\n",
        "\n",
        "# Bekreft at slektstreet er helt tomt\n",
        "alle_personer = slektstre.get_all_persons()\n",
        "print(f\"Tomt slektstre opprettet med {len(alle_personer)} personer\")\n",
        "\n",
        "if alle_personer:\n",
        "    print(\"⚠️ FEIL: Det finnes fortsatt personer i slektstreet!\")\n",
        "    for person in alle_personer:\n",
        "        print(f\"  - {person.id}: {person.fullt_navn}\")\n",
        "    print(\"Dette skal ikke skje - noe er galt!\")\n",
        "else:\n",
        "    print(\"✅ Slektstreet er HELT tomt og klart for nye personer\")\n"
      ]
    },
    {
      "cell_type": "markdown",
      "metadata": {},
      "source": [
        "## Rydd opp i eksisterende data\n",
        "\n",
        "Hvis notebooken har kjørt tidligere, kan det være gamle personer i slektstreet. La oss rydde opp:\n"
      ]
    },
    {
      "cell_type": "code",
      "execution_count": 6,
      "metadata": {},
      "outputs": [
        {
          "name": "stdout",
          "output_type": "stream",
          "text": [
            "✅ Ingen eksisterende data å rydde opp i\n"
          ]
        }
      ],
      "source": [
        "# Rydd opp i eksisterende data\n",
        "alle_personer = slektstre.get_all_persons()\n",
        "if alle_personer:\n",
        "    print(f\"🗑️ Rydder opp i {len(alle_personer)} eksisterende personer:\")\n",
        "    for person in alle_personer:\n",
        "        print(f\"  - Sletter {person.id}: {person.fullt_navn}\")\n",
        "    \n",
        "    # Opprett et helt nytt slektstre\n",
        "    slektstre = Slektstre()\n",
        "    print(\"✅ Nytt tomt slektstre opprettet\")\n",
        "else:\n",
        "    print(\"✅ Ingen eksisterende data å rydde opp i\")\n"
      ]
    },
    {
      "cell_type": "code",
      "execution_count": 7,
      "metadata": {},
      "outputs": [
        {
          "name": "stdout",
          "output_type": "stream",
          "text": [
            "🔍 SISTE SJEKK før vi begynner å legge til personer:\n",
            "✅ Slektstreet er tomt - vi kan begynne!\n"
          ]
        }
      ],
      "source": [
        "# SISTE SJEKK - Bekreft at slektstreet er tomt før vi begynner\n",
        "print(\"🔍 SISTE SJEKK før vi begynner å legge til personer:\")\n",
        "alle_personer = slektstre.get_all_persons()\n",
        "if alle_personer:\n",
        "    print(\"❌ FEIL: Det finnes fortsatt personer i slektstreet!\")\n",
        "    for person in alle_personer:\n",
        "        print(f\"  - {person.id}: {person.fullt_navn}\")\n",
        "    print(\"STOPP! Noe er galt. Kjør opprydding-cellen på nytt.\")\n",
        "    raise Exception(\"Slektstreet er ikke tomt! Kjør opprydding-cellen på nytt.\")\n",
        "else:\n",
        "    print(\"✅ Slektstreet er tomt - vi kan begynne!\")\n"
      ]
    },
    {
      "cell_type": "markdown",
      "metadata": {},
      "source": [
        "## Legg til personer\n",
        "\n",
        "La oss legge til personer fra tre generasjoner:\n"
      ]
    },
    {
      "cell_type": "code",
      "execution_count": 8,
      "metadata": {},
      "outputs": [
        {
          "name": "stdout",
          "output_type": "stream",
          "text": [
            "Lagt til: Erik Lundervold\n"
          ]
        }
      ],
      "source": [
        "# Generasjon 1: Bestefar\n",
        "bestefar = Person(\n",
        "    id=\"p1\",\n",
        "    fornavn=\"Erik\",\n",
        "    etternavn=\"Lundervold\",\n",
        "    fødselsdato=date(1920, 5, 15),\n",
        "    kjønn=Gender.MALE,\n",
        "    fødested=\"Bergen\",\n",
        "    notater=\"Første generasjon i slektstreet\"\n",
        ")\n",
        "\n",
        "slektstre.add_person(bestefar)\n",
        "print(f\"Lagt til: {bestefar.fullt_navn}\")\n"
      ]
    },
    {
      "cell_type": "code",
      "execution_count": 9,
      "metadata": {},
      "outputs": [
        {
          "name": "stdout",
          "output_type": "stream",
          "text": [
            "Lagt til: Arvid Lundervold\n",
            "Lagt til: Anna Pedersen\n"
          ]
        }
      ],
      "source": [
        "# Generasjon 2: Foreldre\n",
        "far = Person(\n",
        "    id=\"p2\",\n",
        "    fornavn=\"Arvid\",\n",
        "    etternavn=\"Lundervold\",\n",
        "    fødselsdato=date(1950, 3, 10),\n",
        "    kjønn=Gender.MALE,\n",
        "    fødested=\"Oslo\",\n",
        "    notater=\"Andre generasjon\"\n",
        ")\n",
        "\n",
        "mor = Person(\n",
        "    id=\"p3\",\n",
        "    fornavn=\"Anna\",\n",
        "    etternavn=\"Pedersen\",\n",
        "    fødselsdato=date(1952, 7, 22),\n",
        "    kjønn=Gender.FEMALE,\n",
        "    fødested=\"Trondheim\",\n",
        "    notater=\"Andre generasjon\"\n",
        ")\n",
        "\n",
        "slektstre.add_person(far)\n",
        "slektstre.add_person(mor)\n",
        "print(f\"Lagt til: {far.fullt_navn}\")\n",
        "print(f\"Lagt til: {mor.fullt_navn}\")\n"
      ]
    },
    {
      "cell_type": "code",
      "execution_count": 10,
      "metadata": {},
      "outputs": [
        {
          "name": "stdout",
          "output_type": "stream",
          "text": [
            "Lagt til: Lars Lundervold\n",
            "Lagt til: Kari Lundervold\n"
          ]
        }
      ],
      "source": [
        "# Generasjon 3: Barn\n",
        "barn1 = Person(\n",
        "    id=\"p4\",\n",
        "    fornavn=\"Lars\",\n",
        "    etternavn=\"Lundervold\",\n",
        "    fødselsdato=date(1980, 12, 5),\n",
        "    kjønn=Gender.MALE,\n",
        "    fødested=\"Bergen\",\n",
        "    notater=\"Tredje generasjon\"\n",
        ")\n",
        "\n",
        "barn2 = Person(\n",
        "    id=\"p5\",\n",
        "    fornavn=\"Kari\",\n",
        "    etternavn=\"Lundervold\",\n",
        "    fødselsdato=date(1983, 4, 18),\n",
        "    kjønn=Gender.FEMALE,\n",
        "    fødested=\"Bergen\",\n",
        "    notater=\"Tredje generasjon\"\n",
        ")\n",
        "\n",
        "slektstre.add_person(barn1)\n",
        "slektstre.add_person(barn2)\n",
        "print(f\"Lagt til: {barn1.fullt_navn}\")\n",
        "print(f\"Lagt til: {barn2.fullt_navn}\")\n"
      ]
    },
    {
      "cell_type": "markdown",
      "metadata": {},
      "source": [
        "## Legg til personer\n",
        "\n",
        "La oss bygge en enkel familie med 3 generasjoner:\n"
      ]
    },
    {
      "cell_type": "code",
      "execution_count": 11,
      "metadata": {},
      "outputs": [
        {
          "name": "stdout",
          "output_type": "stream",
          "text": [
            "Lagt til: Erik Hansen og Ingrid Hansen\n"
          ]
        }
      ],
      "source": [
        "# Generasjon 1: Besteforeldre\n",
        "bestefar = Person(\n",
        "    fornavn=\"Erik\",\n",
        "    etternavn=\"Hansen\",\n",
        "    kjønn=Gender.MALE,\n",
        "    fødselsdato=date(1920, 3, 15),\n",
        "    dødsdato=date(1995, 8, 22),\n",
        "    fødested=\"Oslo\",\n",
        "    notater=\"Arbeidet som ingeniør\"\n",
        ")\n",
        "\n",
        "bestemor = Person(\n",
        "    fornavn=\"Ingrid\",\n",
        "    etternavn=\"Hansen\",\n",
        "    kjønn=Gender.FEMALE,\n",
        "    fødselsdato=date(1925, 7, 10),\n",
        "    dødsdato=date(2010, 12, 3),\n",
        "    fødested=\"Trondheim\",\n",
        "    notater=\"Lærer og mor til 3 barn\"\n",
        ")\n",
        "\n",
        "# Legg til i slektstreet\n",
        "slektstre.add_person(bestefar)\n",
        "slektstre.add_person(bestemor)\n",
        "\n",
        "print(f\"Lagt til: {bestefar.fullt_navn} og {bestemor.fullt_navn}\")\n"
      ]
    },
    {
      "cell_type": "code",
      "execution_count": 13,
      "metadata": {},
      "outputs": [
        {
          "name": "stdout",
          "output_type": "stream",
          "text": [
            "📋 Alle personer i slektstreet:\n",
            "  p1: Erik Lundervold (male) - f. 1920\n",
            "  p2: Arvid Lundervold (male) - f. 1950\n",
            "  p3: Anna Pedersen (female) - f. 1952\n",
            "  p4: Lars Lundervold (male) - f. 1980\n",
            "  p5: Kari Lundervold (female) - f. 1983\n",
            "  6ff2db71-26fc-4cd4-8475-f299a77b2d11: Erik Hansen (male) - f. 1920\n",
            "  99c58b7b-6137-4e4c-aa06-1679861eb9df: Ingrid Hansen (female) - f. 1925\n",
            "\n",
            "Totalt antall personer: 7\n"
          ]
        }
      ],
      "source": [
        "# Bekreft at alle personer er lagt til med riktige ID-er\n",
        "print(\"📋 Alle personer i slektstreet:\")\n",
        "alle_personer = slektstre.get_all_persons()\n",
        "for person in alle_personer:\n",
        "    # Håndter både Gender enum og string verdier\n",
        "    kjønn_str = person.kjønn.value if hasattr(person.kjønn, 'value') else str(person.kjønn)\n",
        "    print(f\"  {person.id}: {person.fullt_navn} ({kjønn_str}) - f. {person.fødselsdato.year}\")\n",
        "\n",
        "print(f\"\\nTotalt antall personer: {len(alle_personer)}\")\n"
      ]
    },
    {
      "cell_type": "code",
      "execution_count": 14,
      "metadata": {},
      "outputs": [
        {
          "name": "stdout",
          "output_type": "stream",
          "text": [
            "📋 Alle personer i slektstreet (enkel versjon):\n",
            "  p1: Erik Lundervold (male) - f. 1920\n",
            "  p2: Arvid Lundervold (male) - f. 1950\n",
            "  p3: Anna Pedersen (female) - f. 1952\n",
            "  p4: Lars Lundervold (male) - f. 1980\n",
            "  p5: Kari Lundervold (female) - f. 1983\n",
            "  6ff2db71-26fc-4cd4-8475-f299a77b2d11: Erik Hansen (male) - f. 1920\n",
            "  99c58b7b-6137-4e4c-aa06-1679861eb9df: Ingrid Hansen (female) - f. 1925\n",
            "\n",
            "Totalt antall personer: 7\n"
          ]
        }
      ],
      "source": [
        "# Enklere versjon - vis kjønn som streng\n",
        "print(\"📋 Alle personer i slektstreet (enkel versjon):\")\n",
        "alle_personer = slektstre.get_all_persons()\n",
        "for person in alle_personer:\n",
        "    print(f\"  {person.id}: {person.fullt_navn} ({person.kjønn}) - f. {person.fødselsdato.year}\")\n",
        "\n",
        "print(f\"\\nTotalt antall personer: {len(alle_personer)}\")\n"
      ]
    },
    {
      "cell_type": "code",
      "execution_count": 15,
      "metadata": {},
      "outputs": [
        {
          "name": "stdout",
          "output_type": "stream",
          "text": [
            "📋 BEKREFTELSE: Alle personer i slektstreet:\n",
            "  p1: Erik Lundervold\n",
            "  p2: Arvid Lundervold\n",
            "  p3: Anna Pedersen\n",
            "  p4: Lars Lundervold\n",
            "  p5: Kari Lundervold\n",
            "  6ff2db71-26fc-4cd4-8475-f299a77b2d11: Erik Hansen\n",
            "  99c58b7b-6137-4e4c-aa06-1679861eb9df: Ingrid Hansen\n",
            "\n",
            "Totalt antall personer: 7\n",
            "❌ FEIL: Noen ID-er er feil!\n",
            "Forventet: ['p1', 'p2', 'p3', 'p4', 'p5']\n",
            "Faktisk: ['p1', 'p2', 'p3', 'p4', 'p5', '6ff2db71-26fc-4cd4-8475-f299a77b2d11', '99c58b7b-6137-4e4c-aa06-1679861eb9df']\n"
          ]
        }
      ],
      "source": [
        "# BEKREFTELSE - Vis alle personer med deres ID-er\n",
        "print(\"📋 BEKREFTELSE: Alle personer i slektstreet:\")\n",
        "alle_personer = slektstre.get_all_persons()\n",
        "for person in alle_personer:\n",
        "    print(f\"  {person.id}: {person.fullt_navn}\")\n",
        "\n",
        "print(f\"\\nTotalt antall personer: {len(alle_personer)}\")\n",
        "\n",
        "# Sjekk at alle ID-er er riktige\n",
        "forventede_id = [\"p1\", \"p2\", \"p3\", \"p4\", \"p5\"]\n",
        "faktiske_id = [person.id for person in alle_personer]\n",
        "\n",
        "if set(faktiske_id) == set(forventede_id):\n",
        "    print(\"✅ Alle ID-er er riktige!\")\n",
        "else:\n",
        "    print(\"❌ FEIL: Noen ID-er er feil!\")\n",
        "    print(f\"Forventet: {forventede_id}\")\n",
        "    print(f\"Faktisk: {faktiske_id}\")\n"
      ]
    },
    {
      "cell_type": "code",
      "execution_count": 16,
      "metadata": {},
      "outputs": [
        {
          "name": "stdout",
          "output_type": "stream",
          "text": [
            "📋 FINAL BEKREFTELSE: Alle personer i slektstreet:\n",
            "  p1: Erik Lundervold\n",
            "  p2: Arvid Lundervold\n",
            "  p3: Anna Pedersen\n",
            "  p4: Lars Lundervold\n",
            "  p5: Kari Lundervold\n",
            "  6ff2db71-26fc-4cd4-8475-f299a77b2d11: Erik Hansen\n",
            "  99c58b7b-6137-4e4c-aa06-1679861eb9df: Ingrid Hansen\n",
            "\n",
            "Totalt antall personer: 7\n",
            "❌ FEIL: Noen ID-er er feil!\n",
            "Forventet: ['p1', 'p2', 'p3', 'p4', 'p5']\n",
            "Faktisk: ['p1', 'p2', 'p3', 'p4', 'p5', '6ff2db71-26fc-4cd4-8475-f299a77b2d11', '99c58b7b-6137-4e4c-aa06-1679861eb9df']\n",
            "Feil ID-er: ['6ff2db71-26fc-4cd4-8475-f299a77b2d11', '99c58b7b-6137-4e4c-aa06-1679861eb9df']\n",
            "Dette er UUID-lignende ID-er fra tidligere kjøringer!\n",
            "LØSNING: Kjør 'FORCE DELETE' cellen på nytt!\n"
          ]
        }
      ],
      "source": [
        "# FINAL BEKREFTELSE - Vis alle personer med deres ID-er\n",
        "print(\"📋 FINAL BEKREFTELSE: Alle personer i slektstreet:\")\n",
        "alle_personer = slektstre.get_all_persons()\n",
        "for person in alle_personer:\n",
        "    print(f\"  {person.id}: {person.fullt_navn}\")\n",
        "\n",
        "print(f\"\\nTotalt antall personer: {len(alle_personer)}\")\n",
        "\n",
        "# Sjekk at alle ID-er er riktige\n",
        "forventede_id = [\"p1\", \"p2\", \"p3\", \"p4\", \"p5\"]\n",
        "faktiske_id = [person.id for person in alle_personer]\n",
        "\n",
        "if set(faktiske_id) == set(forventede_id):\n",
        "    print(\"✅ Alle ID-er er riktige!\")\n",
        "else:\n",
        "    print(\"❌ FEIL: Noen ID-er er feil!\")\n",
        "    print(f\"Forventet: {forventede_id}\")\n",
        "    print(f\"Faktisk: {faktiske_id}\")\n",
        "    \n",
        "    # Vis hvilke ID-er som er feil\n",
        "    feil_id = set(faktiske_id) - set(forventede_id)\n",
        "    if feil_id:\n",
        "        print(f\"Feil ID-er: {list(feil_id)}\")\n",
        "        print(\"Dette er UUID-lignende ID-er fra tidligere kjøringer!\")\n",
        "        print(\"LØSNING: Kjør 'FORCE DELETE' cellen på nytt!\")\n"
      ]
    },
    {
      "cell_type": "code",
      "execution_count": 17,
      "metadata": {},
      "outputs": [
        {
          "name": "stdout",
          "output_type": "stream",
          "text": [
            "📋 FINAL BEKREFTELSE: Alle personer i slektstreet:\n",
            "  p1: Erik Lundervold\n",
            "  p2: Arvid Lundervold\n",
            "  p3: Anna Pedersen\n",
            "  p4: Lars Lundervold\n",
            "  p5: Kari Lundervold\n",
            "  6ff2db71-26fc-4cd4-8475-f299a77b2d11: Erik Hansen\n",
            "  99c58b7b-6137-4e4c-aa06-1679861eb9df: Ingrid Hansen\n",
            "\n",
            "Totalt antall personer: 7\n",
            "❌ FEIL: Noen ID-er er feil!\n",
            "Forventet: ['p1', 'p2', 'p3', 'p4', 'p5']\n",
            "Faktisk: ['p1', 'p2', 'p3', 'p4', 'p5', '6ff2db71-26fc-4cd4-8475-f299a77b2d11', '99c58b7b-6137-4e4c-aa06-1679861eb9df']\n",
            "Feil ID-er: ['6ff2db71-26fc-4cd4-8475-f299a77b2d11', '99c58b7b-6137-4e4c-aa06-1679861eb9df']\n",
            "Dette er UUID-lignende ID-er fra tidligere kjøringer!\n",
            "LØSNING: Stopp Jupyter kernel og start på nytt!\n"
          ]
        }
      ],
      "source": [
        "# FINAL BEKREFTELSE - Vis alle personer med deres ID-er\n",
        "print(\"📋 FINAL BEKREFTELSE: Alle personer i slektstreet:\")\n",
        "alle_personer = slektstre.get_all_persons()\n",
        "for person in alle_personer:\n",
        "    print(f\"  {person.id}: {person.fullt_navn}\")\n",
        "\n",
        "print(f\"\\nTotalt antall personer: {len(alle_personer)}\")\n",
        "\n",
        "# Sjekk at alle ID-er er riktige\n",
        "forventede_id = [\"p1\", \"p2\", \"p3\", \"p4\", \"p5\"]\n",
        "faktiske_id = [person.id for person in alle_personer]\n",
        "\n",
        "if set(faktiske_id) == set(forventede_id):\n",
        "    print(\"✅ Alle ID-er er riktige!\")\n",
        "else:\n",
        "    print(\"❌ FEIL: Noen ID-er er feil!\")\n",
        "    print(f\"Forventet: {forventede_id}\")\n",
        "    print(f\"Faktisk: {faktiske_id}\")\n",
        "    \n",
        "    # Vis hvilke ID-er som er feil\n",
        "    feil_id = set(faktiske_id) - set(forventede_id)\n",
        "    if feil_id:\n",
        "        print(f\"Feil ID-er: {list(feil_id)}\")\n",
        "        print(\"Dette er UUID-lignende ID-er fra tidligere kjøringer!\")\n",
        "        print(\"LØSNING: Stopp Jupyter kernel og start på nytt!\")\n"
      ]
    },
    {
      "cell_type": "code",
      "execution_count": 18,
      "metadata": {},
      "outputs": [
        {
          "name": "stdout",
          "output_type": "stream",
          "text": [
            "📋 FINAL BEKREFTELSE: Alle personer i slektstreet:\n",
            "  p1: Erik Lundervold\n",
            "  p2: Arvid Lundervold\n",
            "  p3: Anna Pedersen\n",
            "  p4: Lars Lundervold\n",
            "  p5: Kari Lundervold\n",
            "  6ff2db71-26fc-4cd4-8475-f299a77b2d11: Erik Hansen\n",
            "  99c58b7b-6137-4e4c-aa06-1679861eb9df: Ingrid Hansen\n",
            "\n",
            "Totalt antall personer: 7\n",
            "❌ FEIL: Noen ID-er er feil!\n",
            "Forventet: ['p1', 'p2', 'p3', 'p4', 'p5']\n",
            "Faktisk: ['p1', 'p2', 'p3', 'p4', 'p5', '6ff2db71-26fc-4cd4-8475-f299a77b2d11', '99c58b7b-6137-4e4c-aa06-1679861eb9df']\n",
            "Feil ID-er: ['6ff2db71-26fc-4cd4-8475-f299a77b2d11', '99c58b7b-6137-4e4c-aa06-1679861eb9df']\n",
            "Dette er UUID-lignende ID-er fra tidligere kjøringer!\n"
          ]
        }
      ],
      "source": [
        "# FINAL BEKREFTELSE - Vis alle personer med deres ID-er\n",
        "print(\"📋 FINAL BEKREFTELSE: Alle personer i slektstreet:\")\n",
        "alle_personer = slektstre.get_all_persons()\n",
        "for person in alle_personer:\n",
        "    print(f\"  {person.id}: {person.fullt_navn}\")\n",
        "\n",
        "print(f\"\\nTotalt antall personer: {len(alle_personer)}\")\n",
        "\n",
        "# Sjekk at alle ID-er er riktige\n",
        "forventede_id = [\"p1\", \"p2\", \"p3\", \"p4\", \"p5\"]\n",
        "faktiske_id = [person.id for person in alle_personer]\n",
        "\n",
        "if set(faktiske_id) == set(forventede_id):\n",
        "    print(\"✅ Alle ID-er er riktige!\")\n",
        "else:\n",
        "    print(\"❌ FEIL: Noen ID-er er feil!\")\n",
        "    print(f\"Forventet: {forventede_id}\")\n",
        "    print(f\"Faktisk: {faktiske_id}\")\n",
        "    \n",
        "    # Vis hvilke ID-er som er feil\n",
        "    feil_id = set(faktiske_id) - set(forventede_id)\n",
        "    if feil_id:\n",
        "        print(f\"Feil ID-er: {list(feil_id)}\")\n",
        "        print(\"Dette er UUID-lignende ID-er fra tidligere kjøringer!\")\n"
      ]
    },
    {
      "cell_type": "markdown",
      "metadata": {},
      "source": [
        "## Opprett relasjoner\n",
        "\n",
        "Nå må vi koble personene sammen med relasjoner:\n"
      ]
    },
    {
      "cell_type": "code",
      "execution_count": 19,
      "metadata": {},
      "outputs": [
        {
          "name": "stdout",
          "output_type": "stream",
          "text": [
            "Arvid Lundervold er barn av Erik Hansen\n"
          ]
        }
      ],
      "source": [
        "# Legg til forelder-barn relasjoner\n",
        "slektstre.add_child(bestefar.id, far)\n",
        "\n",
        "print(f\"{far.fullt_navn} er barn av {bestefar.fullt_navn}\")\n"
      ]
    },
    {
      "cell_type": "code",
      "execution_count": 20,
      "metadata": {},
      "outputs": [
        {
          "name": "stdout",
          "output_type": "stream",
          "text": [
            "Ekteskap opprettet mellom Arvid Lundervold og Anna Pedersen\n",
            "Ekteskapsdato: 1978-08-20\n",
            "Ekteskapssted: Bergen\n"
          ]
        }
      ],
      "source": [
        "# Legg til ekteskap\n",
        "ekteskap = slektstre.add_marriage(\n",
        "    far.id, mor.id,\n",
        "    ekteskapsdato=date(1978, 8, 20),\n",
        "    ekteskapssted=\"Bergen\"\n",
        ")\n",
        "\n",
        "print(f\"Ekteskap opprettet mellom {far.fullt_navn} og {mor.fullt_navn}\")\n",
        "print(f\"Ekteskapsdato: {ekteskap.ekteskapsdato}\")\n",
        "print(f\"Ekteskapssted: {ekteskap.ekteskapssted}\")\n"
      ]
    },
    {
      "cell_type": "code",
      "execution_count": 21,
      "metadata": {},
      "outputs": [
        {
          "name": "stdout",
          "output_type": "stream",
          "text": [
            "Lars Lundervold og Kari Lundervold er barn av Arvid Lundervold og Anna Pedersen\n"
          ]
        }
      ],
      "source": [
        "# Legg til barn til foreldre\n",
        "slektstre.add_child(far.id, barn1)\n",
        "slektstre.add_child(far.id, barn2)\n",
        "slektstre.add_child(mor.id, barn1)\n",
        "slektstre.add_child(mor.id, barn2)\n",
        "\n",
        "print(f\"{barn1.fullt_navn} og {barn2.fullt_navn} er barn av {far.fullt_navn} og {mor.fullt_navn}\")\n"
      ]
    },
    {
      "cell_type": "markdown",
      "metadata": {},
      "source": [
        "## Analyser slektstreet\n",
        "\n",
        "La oss se på slektskap og relasjoner:\n"
      ]
    },
    {
      "cell_type": "code",
      "execution_count": 22,
      "metadata": {},
      "outputs": [
        {
          "name": "stdout",
          "output_type": "stream",
          "text": [
            "Søsken til Lars Lundervold:\n",
            "- Kari Lundervold\n"
          ]
        }
      ],
      "source": [
        "# Hent søsken\n",
        "søsken = slektstre.get_siblings(barn1.id)\n",
        "print(f\"Søsken til {barn1.fullt_navn}:\")\n",
        "for søsken_person in søsken:\n",
        "    print(f\"- {søsken_person.fullt_navn}\")\n"
      ]
    },
    {
      "cell_type": "code",
      "execution_count": 23,
      "metadata": {},
      "outputs": [
        {
          "name": "stdout",
          "output_type": "stream",
          "text": [
            "Forfedre til Lars Lundervold:\n",
            "- Arvid Lundervold\n",
            "- Erik Hansen\n",
            "- Anna Pedersen\n"
          ]
        }
      ],
      "source": [
        "# Hent forfedre\n",
        "forfedre = slektstre.get_ancestors(barn1.id)\n",
        "print(f\"Forfedre til {barn1.fullt_navn}:\")\n",
        "for forfader in forfedre:\n",
        "    print(f\"- {forfader.fullt_navn}\")\n"
      ]
    },
    {
      "cell_type": "code",
      "execution_count": 24,
      "metadata": {},
      "outputs": [
        {
          "name": "stdout",
          "output_type": "stream",
          "text": [
            "Slektskap mellom Lars Lundervold og Kari Lundervold: søsken\n"
          ]
        }
      ],
      "source": [
        "# Finn slektskap\n",
        "relasjon = slektstre.find_relation(barn1.id, barn2.id)\n",
        "print(f\"Slektskap mellom {barn1.fullt_navn} og {barn2.fullt_navn}: {relasjon}\")\n"
      ]
    },
    {
      "cell_type": "code",
      "execution_count": 25,
      "metadata": {},
      "outputs": [
        {
          "name": "stdout",
          "output_type": "stream",
          "text": [
            "Generasjonsnivåer:\n",
            "Erik Lundervold: Generasjon 0\n",
            "Arvid Lundervold: Generasjon 1\n",
            "Anna Pedersen: Generasjon 0\n",
            "Lars Lundervold: Generasjon 1\n",
            "Kari Lundervold: Generasjon 1\n",
            "Erik Hansen: Generasjon 0\n",
            "Ingrid Hansen: Generasjon 0\n"
          ]
        }
      ],
      "source": [
        "# Generasjonsnivåer\n",
        "print(\"Generasjonsnivåer:\")\n",
        "for person in slektstre.get_all_persons():\n",
        "    gen = slektstre.get_generation(person.id)\n",
        "    print(f\"{person.fullt_navn}: Generasjon {gen}\")\n"
      ]
    },
    {
      "cell_type": "markdown",
      "metadata": {},
      "source": [
        "## Visualiser slektstreet\n"
      ]
    },
    {
      "cell_type": "code",
      "execution_count": 26,
      "metadata": {},
      "outputs": [
        {
          "data": {
            "image/png": "[encoded data removed]",
            "text/plain": [
              "<Figure size 1800x1200 with 1 Axes>"
            ]
          },
          "metadata": {},
          "output_type": "display_data"
        }
      ],
      "source": [
        "from visualization import plot_hierarchical_tree\n",
        "\n",
        "# Plott hierarkisk slektstre\n",
        "fig = plot_hierarchical_tree(slektstre, title=\"Manuelt bygget slektstre\")\n",
        "plt.show()\n"
      ]
    },
    {
      "cell_type": "markdown",
      "metadata": {},
      "source": [
        "## Statistikk\n"
      ]
    },
    {
      "cell_type": "code",
      "execution_count": null,
      "metadata": {},
      "outputs": [],
      "source": [
        "# Hent statistikk\n",
        "stats = slektstre.get_statistics()\n",
        "\n",
        "print(\"📊 Statistikk:\")\n",
        "print(f\"Totalt antall personer: {stats['total_persons']}\")\n",
        "print(f\"Antall generasjoner: {stats['max_generation'] + 1}\")\n",
        "print(f\"Gjennomsnittsalder: {stats['average_age']} år\")\n",
        "print(f\"Totalt antall ekteskap: {stats['total_marriages']}\")\n"
      ]
    },
    {
      "cell_type": "markdown",
      "metadata": {},
      "source": [
        "## Valider slektstreet\n",
        "\n",
        "La oss sjekke om det er noen problemer med slektstreet:\n"
      ]
    },
    {
      "cell_type": "code",
      "execution_count": null,
      "metadata": {},
      "outputs": [],
      "source": [
        "# Valider slektstreet\n",
        "problemer = slektstre.validate_tree()\n",
        "\n",
        "if problemer:\n",
        "    print(\"⚠️ Problemer funnet:\")\n",
        "    for problem in problemer:\n",
        "        print(f\"- {problem}\")\n",
        "else:\n",
        "    print(\"✅ Ingen problemer funnet i slektstreet!\")\n"
      ]
    },
    {
      "cell_type": "markdown",
      "metadata": {},
      "source": [
        "## Lagre slektstreet\n",
        "\n",
        "Du kan lagre slektstreet til fil:\n"
      ]
    },
    {
      "cell_type": "code",
      "execution_count": null,
      "metadata": {},
      "outputs": [],
      "source": [
        "from family_io import save_to_yaml\n",
        "\n",
        "# Lagre til YAML\n",
        "save_to_yaml(slektstre.export_to_familie_data(), \"mitt_slektstre.yaml\")\n",
        "print(\"✅ Slektstreet lagret til mitt_slektstre.yaml\")\n"
      ]
    },
    {
      "cell_type": "markdown",
      "metadata": {},
      "source": [
        "## Oppsummering\n",
        "\n",
        "I denne notebooken har du lært:\n",
        "\n",
        "1. ✅ Opprette et tomt slektstre\n",
        "2. ✅ Legge til personer med metadata\n",
        "3. ✅ Opprette forelder-barn relasjoner\n",
        "4. ✅ Legge til ekteskap\n",
        "5. ✅ Analysere slektskap og generasjoner\n",
        "6. ✅ Visualisere slektstreet\n",
        "7. ✅ Validere og lagre data\n",
        "\n",
        "**Neste steg**: Gå til `03_importer_data.ipynb` for å lære om import/eksport av data.\n"
      ]
    }
  ],
  "metadata": {
    "kernelspec": {
      "display_name": "slektstre",
      "language": "python",
      "name": "python3"
    },
    "language_info": {
      "codemirror_mode": {
        "name": "ipython",
        "version": 3
      },
      "file_extension": ".py",
      "mimetype": "text/x-python",
      "name": "python",
      "nbconvert_exporter": "python",
      "pygments_lexer": "ipython3",
      "version": "3.12.11"
    }
  },
  "nbformat": 4,
  "nbformat_minor": 2
}
