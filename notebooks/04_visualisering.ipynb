{
  "cells": [
    {
      "cell_type": "markdown",
      "metadata": {},
      "source": [
        "# Visualisering av slektstre\n",
        "\n",
        "I denne notebooken utforsker vi alle tilgjengelige visualiseringsalternativer for slektstre.\n",
        "\n",
        "## Tilgjengelige visualiseringer\n",
        "\n",
        "1. **Hierarkisk tre** - Tradisjonell struktur\n",
        "2. **Fan chart** - Sirkulær visning\n",
        "3. **Interaktiv tre** - Plotly-basert\n",
        "4. **Hourglass view** - Fokusperson i midten\n",
        "5. **Statistikk** - Grafer og diagrammer\n"
      ]
    },
    {
      "cell_type": "code",
      "execution_count": null,
      "metadata": {},
      "outputs": [],
      "source": [
        "# Importer nødvendige biblioteker\n",
        "import sys\n",
        "sys.path.append('../src')\n",
        "\n",
        "from models import Person, Ekteskap, FamilieData, Gender\n",
        "from tree import Slektstre\n",
        "from family_io import load_from_yaml\n",
        "from visualization import (\n",
        "    plot_hierarchical_tree,\n",
        "    plot_fan_chart,\n",
        "    plot_interactive_tree,\n",
        "    plot_statistics,\n",
        "    plot_hourglass_view\n",
        ")\n",
        "import matplotlib.pyplot as plt\n",
        "import plotly.express as px\n",
        "from datetime import date\n",
        "\n",
        "print(\"✅ Alle biblioteker importert!\")\n"
      ]
    },
    {
      "cell_type": "code",
      "execution_count": null,
      "metadata": {},
      "outputs": [],
      "source": [
        "# Last eksempel-familie\n",
        "familie_data = load_from_yaml('../data/eksempel_familie.yaml')\n",
        "slektstre = Slektstre(familie_data)\n",
        "\n",
        "print(f\"Familie lastet med {len(familie_data.personer)} personer\")\n",
        "print(f\"Beskrivelse: {familie_data.beskrivelse}\")\n",
        "\n",
        "# Vis statistikk\n",
        "stats = slektstre.get_statistics()\n",
        "print(f\"\\n📊 Statistikk:\")\n",
        "print(f\"Antall generasjoner: {stats['max_generation'] + 1}\")\n",
        "print(f\"Gjennomsnittsalder: {stats['average_age']:.1f} år\")\n",
        "print(f\"Antall ekteskap: {stats['total_marriages']}\")\n"
      ]
    },
    {
      "cell_type": "markdown",
      "metadata": {},
      "source": [
        "## 1. Hierarkisk tre\n",
        "\n",
        "Tradisjonell struktur med generasjoner fra topp til bunn:\n"
      ]
    },
    {
      "cell_type": "code",
      "execution_count": null,
      "metadata": {},
      "outputs": [],
      "source": [
        "# Plott hierarkisk tre\n",
        "fig = plot_hierarchical_tree(slektstre, title=\"Hierarkisk slektstre\")\n",
        "plt.show()\n"
      ]
    },
    {
      "cell_type": "markdown",
      "metadata": {},
      "source": [
        "## 2. Fan Chart\n",
        "\n",
        "Sirkulær visning med eldste generasjon i midten:\n"
      ]
    },
    {
      "cell_type": "code",
      "execution_count": null,
      "metadata": {},
      "outputs": [],
      "source": [
        "# Plott fan chart\n",
        "fig = plot_fan_chart(slektstre, title=\"Fan Chart - Sirkulær visning\")\n",
        "plt.show()\n"
      ]
    },
    {
      "cell_type": "markdown",
      "metadata": {},
      "source": [
        "## 3. Interaktiv tre\n",
        "\n",
        "Plotly-basert interaktiv visualisering med hover-info:\n"
      ]
    },
    {
      "cell_type": "code",
      "execution_count": null,
      "metadata": {},
      "outputs": [],
      "source": [
        "# Plott interaktiv tre\n",
        "fig = plot_interactive_tree(slektstre, title=\"Interaktiv slektstre\")\n",
        "fig.show()\n"
      ]
    },
    {
      "cell_type": "markdown",
      "metadata": {},
      "source": [
        "## 4. Hourglass View\n",
        "\n",
        "Fokusperson i midten med forfedre over og etterkommere under:\n"
      ]
    },
    {
      "cell_type": "code",
      "execution_count": null,
      "metadata": {},
      "outputs": [],
      "source": [
        "# Velg en fokusperson (Arvid Lundervold)\n",
        "fokusperson_id = \"p3\"  # Arvid Lundervold\n",
        "fokusperson = slektstre.get_person(fokusperson_id)\n",
        "\n",
        "if fokusperson:\n",
        "    print(f\"Fokusperson: {fokusperson.fullt_navn} (ID: {fokusperson.id})\")\n",
        "    \n",
        "    # Plott hourglass view\n",
        "    fig = plot_hourglass_view(slektstre, fokusperson_id, title=f\"Hourglass View - {fokusperson.fullt_navn}\")\n",
        "    plt.show()\n",
        "else:\n",
        "    print(\"Fokusperson ikke funnet!\")\n"
      ]
    },
    {
      "cell_type": "markdown",
      "metadata": {},
      "source": [
        "## 5. Statistikk og diagrammer\n",
        "\n",
        "Vis ulike statistikk-diagrammer:\n"
      ]
    },
    {
      "cell_type": "code",
      "execution_count": null,
      "metadata": {},
      "outputs": [],
      "source": [
        "# Plott statistikk\n",
        "fig = plot_statistics(slektstre, title=\"Familie-statistikk\")\n",
        "plt.show()\n"
      ]
    },
    {
      "cell_type": "markdown",
      "metadata": {},
      "source": [
        "## 6. Tilpassede visualiseringer\n",
        "\n",
        "La oss eksperimentere med forskjellige parametere:\n"
      ]
    },
    {
      "cell_type": "code",
      "execution_count": null,
      "metadata": {},
      "outputs": [],
      "source": [
        "# Hierarkisk tre med større figurstørrelse\n",
        "fig = plot_hierarchical_tree(\n",
        "    slektstre, \n",
        "    title=\"Stort hierarkisk tre\",\n",
        "    figsize=(20, 12)\n",
        ")\n",
        "plt.show()\n"
      ]
    },
    {
      "cell_type": "code",
      "execution_count": null,
      "metadata": {},
      "outputs": [],
      "source": [
        "# Fan chart med større radius\n",
        "fig = plot_fan_chart(\n",
        "    slektstre, \n",
        "    title=\"Stor fan chart\",\n",
        "    figsize=(15, 15),\n",
        "    radius=8\n",
        ")\n",
        "plt.show()\n"
      ]
    },
    {
      "cell_type": "markdown",
      "metadata": {},
      "source": [
        "## 7. Sammenligning av visualiseringer\n",
        "\n",
        "La oss sammenligne forskjellige visualiseringer side ved side:\n"
      ]
    },
    {
      "cell_type": "code",
      "execution_count": null,
      "metadata": {},
      "outputs": [],
      "source": [
        "# Sammenlign alle visualiseringer\n",
        "fig, axes = plt.subplots(2, 2, figsize=(20, 16))\n",
        "\n",
        "# Hierarkisk tre\n",
        "plot_hierarchical_tree(slektstre, ax=axes[0,0], title=\"Hierarkisk\")\n",
        "axes[0,0].set_title(\"Hierarkisk tre\", fontsize=14, fontweight='bold')\n",
        "\n",
        "# Fan chart\n",
        "plot_fan_chart(slektstre, ax=axes[0,1], title=\"Fan Chart\")\n",
        "axes[0,1].set_title(\"Fan Chart\", fontsize=14, fontweight='bold')\n",
        "\n",
        "# Hourglass view\n",
        "plot_hourglass_view(slektstre, \"p3\", ax=axes[1,0], title=\"Hourglass\")\n",
        "axes[1,0].set_title(\"Hourglass View\", fontsize=14, fontweight='bold')\n",
        "\n",
        "# Statistikk\n",
        "plot_statistics(slektstre, ax=axes[1,1], title=\"Statistikk\")\n",
        "axes[1,1].set_title(\"Statistikk\", fontsize=14, fontweight='bold')\n",
        "\n",
        "plt.tight_layout()\n",
        "plt.show()\n"
      ]
    },
    {
      "cell_type": "markdown",
      "metadata": {},
      "source": [
        "## 8. Eksport av visualiseringer\n",
        "\n",
        "La oss lagre visualiseringer til filer:\n"
      ]
    },
    {
      "cell_type": "code",
      "execution_count": null,
      "metadata": {},
      "outputs": [],
      "source": [
        "# Lagre visualiseringer til filer\n",
        "import os\n",
        "\n",
        "# Opprett mappe for eksporterte bilder\n",
        "os.makedirs(\"eksporterte_bilder\", exist_ok=True)\n",
        "\n",
        "# Lagre hierarkisk tre\n",
        "fig = plot_hierarchical_tree(slektstre, title=\"Hierarkisk slektstre\")\n",
        "fig.savefig(\"eksporterte_bilder/hierarkisk_tre.png\", dpi=300, bbox_inches='tight')\n",
        "plt.close(fig)\n",
        "\n",
        "# Lagre fan chart\n",
        "fig = plot_fan_chart(slektstre, title=\"Fan Chart\")\n",
        "fig.savefig(\"eksporterte_bilder/fan_chart.png\", dpi=300, bbox_inches='tight')\n",
        "plt.close(fig)\n",
        "\n",
        "# Lagre hourglass view\n",
        "fig = plot_hourglass_view(slektstre, \"p3\", title=\"Hourglass View\")\n",
        "fig.savefig(\"eksporterte_bilder/hourglass_view.png\", dpi=300, bbox_inches='tight')\n",
        "plt.close(fig)\n",
        "\n",
        "# Lagre statistikk\n",
        "fig = plot_statistics(slektstre, title=\"Statistikk\")\n",
        "fig.savefig(\"eksporterte_bilder/statistikk.png\", dpi=300, bbox_inches='tight')\n",
        "plt.close(fig)\n",
        "\n",
        "print(\"✅ Alle visualiseringer lagret til 'eksporterte_bilder/' mappen\")\n",
        "print(\"📁 Filene:\")\n",
        "for fil in os.listdir(\"eksporterte_bilder\"):\n",
        "    print(f\"  - {fil}\")\n"
      ]
    },
    {
      "cell_type": "markdown",
      "metadata": {},
      "source": [
        "## 9. Rydde opp\n",
        "\n",
        "La oss slette de eksporterte bildene:\n"
      ]
    },
    {
      "cell_type": "code",
      "execution_count": null,
      "metadata": {},
      "outputs": [],
      "source": [
        "# Slett eksporterte bilder\n",
        "import shutil\n",
        "\n",
        "if os.path.exists(\"eksporterte_bilder\"):\n",
        "    shutil.rmtree(\"eksporterte_bilder\")\n",
        "    print(\"🗑️ Slettet 'eksporterte_bilder/' mappen\")\n",
        "\n",
        "print(\"✅ Opprydding fullført!\")\n"
      ]
    },
    {
      "cell_type": "markdown",
      "metadata": {},
      "source": [
        "## Oppsummering\n",
        "\n",
        "I denne notebooken har du utforsket alle visualiseringsalternativer:\n",
        "\n",
        "1. ✅ **Hierarkisk tre** - Tradisjonell struktur, god for oversikt\n",
        "2. ✅ **Fan chart** - Sirkulær visning, visuelt tiltalende\n",
        "3. ✅ **Interaktiv tre** - Plotly-basert, zoom og hover-info\n",
        "4. ✅ **Hourglass view** - Fokusperson i midten, god for detaljer\n",
        "5. ✅ **Statistikk** - Grafer og diagrammer, dataanalyse\n",
        "6. ✅ **Tilpassede visualiseringer** - Forskjellige størrelser og parametere\n",
        "7. ✅ **Sammenligning** - Side ved side visning\n",
        "8. ✅ **Eksport** - Lagre til PNG-filer\n",
        "9. ✅ **Opprydding** - Slette midlertidige filer\n",
        "\n",
        "**Anbefalinger**:\n",
        "- Bruk **hierarkisk tre** for generell oversikt\n",
        "- Bruk **fan chart** for presentasjoner\n",
        "- Bruk **interaktiv tre** for utforskning\n",
        "- Bruk **hourglass view** for fokus på en person\n",
        "- Bruk **statistikk** for dataanalyse\n",
        "\n",
        "**Neste steg**: Du har nå fullført alle notebookene! Du kan begynne å bygge ditt eget slektstre.\n"
      ]
    }
  ],
  "metadata": {
    "language_info": {
      "name": "python"
    }
  },
  "nbformat": 4,
  "nbformat_minor": 2
}
