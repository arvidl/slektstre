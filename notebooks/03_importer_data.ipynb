{
  "cells": [
    {
      "cell_type": "markdown",
      "metadata": {},
      "source": [
        "# Import/eksport av data\n",
        "\n",
        "I denne notebooken lærer du hvordan du importerer og eksporterer familie-data i forskjellige formater.\n",
        "\n",
        "## Støttede formater\n",
        "\n",
        "- **YAML** (anbefalt) - Lesbar struktur\n",
        "- **JSON** - Universell kompatibilitet  \n",
        "- **CSV** - Enkel tabellstruktur\n",
        "- **GEDCOM** - Genealogi-standard\n"
      ]
    },
    {
      "cell_type": "code",
      "execution_count": null,
      "metadata": {},
      "outputs": [],
      "source": [
        "# Importer nødvendige biblioteker\n",
        "import sys\n",
        "sys.path.append('../src')\n",
        "\n",
        "from models import Person, Ekteskap, FamilieData, Gender\n",
        "from tree import Slektstre\n",
        "from family_io import (\n",
        "    load_from_yaml, save_to_yaml,\n",
        "    load_from_json, save_to_json,\n",
        "    load_from_csv, save_to_csv,\n",
        "    export_to_gedcom\n",
        ")\n",
        "from datetime import date\n",
        "import pandas as pd\n",
        "\n",
        "print(\"✅ Alle biblioteker importert!\")\n"
      ]
    },
    {
      "cell_type": "markdown",
      "metadata": {},
      "source": [
        "## 1. YAML Format (Anbefalt)\n",
        "\n",
        "YAML er det mest lesbare formatet for familie-data:\n"
      ]
    },
    {
      "cell_type": "code",
      "execution_count": null,
      "metadata": {},
      "outputs": [],
      "source": [
        "# Last eksempel-familie fra YAML\n",
        "familie_data = load_from_yaml('../data/eksempel_familie.yaml')\n",
        "slektstre = Slektstre(familie_data)\n",
        "\n",
        "print(f\"Familie lastet med {len(familie_data.personer)} personer og {len(familie_data.ekteskap)} ekteskap\")\n",
        "print(f\"Beskrivelse: {familie_data.beskrivelse}\")\n",
        "\n",
        "# Vis første person som eksempel\n",
        "if familie_data.personer:\n",
        "    første_person = familie_data.personer[0]\n",
        "    print(f\"\\nEksempel person: {første_person.fullt_navn} (ID: {første_person.id})\")\n"
      ]
    },
    {
      "cell_type": "code",
      "execution_count": null,
      "metadata": {},
      "outputs": [],
      "source": [
        "# Lagre til YAML\n",
        "save_to_yaml(familie_data, \"eksport_familie.yaml\")\n",
        "print(\"✅ Familie-data eksportert til eksport_familie.yaml\")\n"
      ]
    },
    {
      "cell_type": "markdown",
      "metadata": {},
      "source": [
        "## 2. JSON Format\n",
        "\n",
        "JSON er godt for programmatisk bruk og kompatibilitet:\n"
      ]
    },
    {
      "cell_type": "code",
      "execution_count": null,
      "metadata": {},
      "outputs": [],
      "source": [
        "# Eksporter til JSON\n",
        "save_to_json(familie_data, \"eksport_familie.json\")\n",
        "print(\"✅ Familie-data eksportert til eksport_familie.json\")\n",
        "\n",
        "# Last fra JSON\n",
        "familie_data_json = load_from_json(\"eksport_familie.json\")\n",
        "slektstre_json = Slektstre(familie_data_json)\n",
        "\n",
        "print(f\"JSON-fil lastet med {len(familie_data_json.personer)} personer\")\n"
      ]
    },
    {
      "cell_type": "markdown",
      "metadata": {},
      "source": [
        "## 3. CSV Format\n",
        "\n",
        "CSV er enkelt for tabellbasert data. La oss lage et eksempel:\n"
      ]
    },
    {
      "cell_type": "code",
      "execution_count": null,
      "metadata": {},
      "outputs": [],
      "source": [
        "# Eksporter til CSV\n",
        "save_to_csv(familie_data, \"eksport_familie.csv\")\n",
        "print(\"✅ Familie-data eksportert til eksport_familie.csv\")\n",
        "\n",
        "# Vis CSV-innhold\n",
        "df = pd.read_csv(\"eksport_familie.csv\")\n",
        "print(f\"\\nCSV-fil inneholder {len(df)} rader\")\n",
        "print(\"\\nFørste 5 rader:\")\n",
        "print(df.head())\n"
      ]
    },
    {
      "cell_type": "code",
      "execution_count": null,
      "metadata": {},
      "outputs": [],
      "source": [
        "# Last fra CSV\n",
        "familie_data_csv = load_from_csv(\"eksport_familie.csv\")\n",
        "slektstre_csv = Slektstre(familie_data_csv)\n",
        "\n",
        "print(f\"CSV-fil lastet med {len(familie_data_csv.personer)} personer\")\n",
        "print(f\"Antall ekteskap: {len(familie_data_csv.ekteskap)}\")\n"
      ]
    },
    {
      "cell_type": "markdown",
      "metadata": {},
      "source": [
        "## 4. GEDCOM Format\n",
        "\n",
        "GEDCOM er standarden for genealogi-programmer:\n"
      ]
    },
    {
      "cell_type": "code",
      "execution_count": null,
      "metadata": {},
      "outputs": [],
      "source": [
        "# Eksporter til GEDCOM\n",
        "export_to_gedcom(familie_data, \"eksport_familie.ged\")\n",
        "print(\"✅ Familie-data eksportert til eksport_familie.ged\")\n",
        "\n",
        "# Vis første linjer av GEDCOM-filen\n",
        "with open(\"eksport_familie.ged\", \"r\", encoding=\"utf-8\") as f:\n",
        "    linjer = f.readlines()[:20]\n",
        "    print(\"\\nFørste 20 linjer av GEDCOM-filen:\")\n",
        "    for i, linje in enumerate(linjer, 1):\n",
        "        print(f\"{i:2d}: {linje.rstrip()}\")\n"
      ]
    },
    {
      "cell_type": "markdown",
      "metadata": {},
      "source": [
        "## 5. Sammenligning av formater\n",
        "\n",
        "La oss sammenligne størrelsen og kompleksiteten:\n"
      ]
    },
    {
      "cell_type": "code",
      "execution_count": null,
      "metadata": {},
      "outputs": [],
      "source": [
        "import os\n",
        "\n",
        "# Sammenlign filstørrelser\n",
        "filer = [\"eksport_familie.yaml\", \"eksport_familie.json\", \"eksport_familie.csv\", \"eksport_familie.ged\"]\n",
        "\n",
        "print(\"📊 Filstørrelser:\")\n",
        "for fil in filer:\n",
        "    if os.path.exists(fil):\n",
        "        størrelse = os.path.getsize(fil)\n",
        "        print(f\"{fil:25s}: {størrelse:6d} bytes\")\n",
        "    else:\n",
        "        print(f\"{fil:25s}: Ikke funnet\")\n"
      ]
    },
    {
      "cell_type": "markdown",
      "metadata": {},
      "source": [
        "## 6. Validering av importerte data\n",
        "\n",
        "La oss sjekke at alle formater gir samme resultat:\n"
      ]
    },
    {
      "cell_type": "code",
      "execution_count": null,
      "metadata": {},
      "outputs": [],
      "source": [
        "# Sammenlign antall personer og ekteskap\n",
        "formater = {\n",
        "    \"YAML\": familie_data,\n",
        "    \"JSON\": familie_data_json,\n",
        "    \"CSV\": familie_data_csv\n",
        "}\n",
        "\n",
        "print(\"📋 Sammenligning av importerte data:\")\n",
        "print(f\"{'Format':<8} {'Personer':<10} {'Ekteskap':<10}\")\n",
        "print(\"-\" * 30)\n",
        "\n",
        "for format_navn, data in formater.items():\n",
        "    print(f\"{format_navn:<8} {len(data.personer):<10} {len(data.ekteskap):<10}\")\n",
        "\n",
        "# Sjekk at alle har samme antall personer\n",
        "antall_personer = [len(data.personer) for data in formater.values()]\n",
        "if len(set(antall_personer)) == 1:\n",
        "    print(\"\\n✅ Alle formater har samme antall personer!\")\n",
        "else:\n",
        "    print(\"\\n⚠️ Formater har forskjellig antall personer\")\n"
      ]
    },
    {
      "cell_type": "markdown",
      "metadata": {},
      "source": [
        "## 7. Rydde opp\n",
        "\n",
        "La oss slette de midlertidige filene:\n"
      ]
    },
    {
      "cell_type": "code",
      "execution_count": null,
      "metadata": {},
      "outputs": [],
      "source": [
        "# Slett midlertidige filer\n",
        "import os\n",
        "\n",
        "filer_til_sletting = [\n",
        "    \"eksport_familie.yaml\",\n",
        "    \"eksport_familie.json\", \n",
        "    \"eksport_familie.csv\",\n",
        "    \"eksport_familie.ged\"\n",
        "]\n",
        "\n",
        "for fil in filer_til_sletting:\n",
        "    if os.path.exists(fil):\n",
        "        os.remove(fil)\n",
        "        print(f\"🗑️ Slettet {fil}\")\n",
        "\n",
        "print(\"\\n✅ Opprydding fullført!\")\n"
      ]
    },
    {
      "cell_type": "markdown",
      "metadata": {},
      "source": [
        "## Oppsummering\n",
        "\n",
        "I denne notebooken har du lært:\n",
        "\n",
        "1. ✅ **YAML** - Lesbar struktur, anbefalt format\n",
        "2. ✅ **JSON** - Programmatisk kompatibilitet\n",
        "3. ✅ **CSV** - Enkel tabellstruktur\n",
        "4. ✅ **GEDCOM** - Genealogi-standard\n",
        "5. ✅ Sammenligning av formater\n",
        "6. ✅ Validering av importerte data\n",
        "7. ✅ Opprydding av midlertidige filer\n",
        "\n",
        "**Anbefalinger**:\n",
        "- Bruk **YAML** for manuell redigering\n",
        "- Bruk **JSON** for programmatisk bruk\n",
        "- Bruk **CSV** for enkel dataoverføring\n",
        "- Bruk **GEDCOM** for kompatibilitet med andre genealogi-programmer\n",
        "\n",
        "**Neste steg**: Gå til `04_visualisering.ipynb` for å utforske alle visualiseringsalternativer.\n"
      ]
    }
  ],
  "metadata": {
    "language_info": {
      "name": "python"
    }
  },
  "nbformat": 4,
  "nbformat_minor": 2
}
