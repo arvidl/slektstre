{
  "cells": [
    {
      "cell_type": "code",
      "execution_count": 1,
      "metadata": {},
      "outputs": [
        {
          "name": "stdout",
          "output_type": "stream",
          "text": [
            "💻 Kjører lokalt / Running locally\n",
            "📍 Miljø: Lokal\n",
            "📍 Environment: Local\n"
          ]
        }
      ],
      "source": [
        "# =============================================================================\n",
        "# GOOGLE COLAB SETUP / GOOGLE COLAB SETUP\n",
        "# =============================================================================\n",
        "\n",
        "# Sjekk om vi kjører i Google Colab\n",
        "try:\n",
        "    import google.colab\n",
        "    IN_COLAB = True\n",
        "    print(\"🔧 Kjører i Google Colab - installerer avhengigheter...\")\n",
        "    print(\"🔧 Running in Google Colab - installing dependencies...\")\n",
        "    \n",
        "    # Installer nødvendige pakker\n",
        "    import subprocess\n",
        "    import sys\n",
        "    try:\n",
        "        subprocess.check_call([sys.executable, \"-m\", \"pip\", \"install\", \"-q\", \n",
        "                              \"networkx\", \"matplotlib\", \"plotly\", \"pydantic\", \n",
        "                              \"pyyaml\", \"pandas\", \"ipywidgets\", \"pillow\", \"kaleido\"])\n",
        "        print(\"✅ Pakker installert\")\n",
        "    except Exception as e:\n",
        "        print(f\"⚠️ Pip install feilet: {e}\")\n",
        "    \n",
        "    # Fjern eksisterende slektstre-mappe hvis den finnes\n",
        "    import shutil\n",
        "    import os\n",
        "    if os.path.exists('/content/slektstre'):\n",
        "        shutil.rmtree('/content/slektstre')\n",
        "        print(\"🗑️ Fjernet eksisterende slektstre-mappe\")\n",
        "    \n",
        "    # Klon repository\n",
        "    try:\n",
        "        subprocess.check_call(['git', 'clone', 'https://github.com/arvidl/slektstre.git'])\n",
        "        print(\"✅ Repository klonet\")\n",
        "    except Exception as e:\n",
        "        print(f\"⚠️ Git clone feilet: {e}\")\n",
        "    \n",
        "    # Legg til src-mappen til Python path og importer direkte\n",
        "    sys.path.insert(0, '/content/slektstre/src')\n",
        "    print(\"✅ Path lagt til\")\n",
        "    \n",
        "    # Importer slektstre-modulene direkte for å unngå navnekonflikt\n",
        "    import importlib.util\n",
        "    import types\n",
        "    \n",
        "    # Først, fjern konfliktende moduler fra sys.modules\n",
        "    modules_to_remove = ['tree', 'models', 'localization']\n",
        "    for module_name in modules_to_remove:\n",
        "        if module_name in sys.modules:\n",
        "            del sys.modules[module_name]\n",
        "    \n",
        "    # Last inn models.py først\n",
        "    try:\n",
        "        spec = importlib.util.spec_from_file_location(\"slektstre_models\", \"/content/slektstre/src/models.py\")\n",
        "        slektstre_models = importlib.util.module_from_spec(spec)\n",
        "        spec.loader.exec_module(slektstre_models)\n",
        "        \n",
        "        # Opprett midlertidig models modul\n",
        "        temp_models_module = types.ModuleType('models')\n",
        "        temp_models_module.Person = slektstre_models.Person\n",
        "        temp_models_module.Gender = slektstre_models.Gender\n",
        "        temp_models_module.Ekteskap = slektstre_models.Ekteskap\n",
        "        temp_models_module.FamilieData = slektstre_models.FamilieData\n",
        "        sys.modules['models'] = temp_models_module\n",
        "        \n",
        "        print(\"✅ models.py lastet\")\n",
        "    except Exception as e:\n",
        "        print(f\"⚠️ models.py feilet: {e}\")\n",
        "    \n",
        "    # Last inn localization.py\n",
        "    try:\n",
        "        spec = importlib.util.spec_from_file_location(\"slektstre_localization\", \"/content/slektstre/src/localization.py\")\n",
        "        slektstre_localization = importlib.util.module_from_spec(spec)\n",
        "        spec.loader.exec_module(slektstre_localization)\n",
        "        \n",
        "        # Opprett midlertidig localization modul\n",
        "        temp_localization_module = types.ModuleType('localization')\n",
        "        temp_localization_module.t = slektstre_localization.t\n",
        "        sys.modules['localization'] = temp_localization_module\n",
        "        \n",
        "        print(\"✅ localization.py lastet\")\n",
        "    except Exception as e:\n",
        "        print(f\"⚠️ localization.py feilet: {e}\")\n",
        "    \n",
        "    # Last inn tree.py som slektstre_tree\n",
        "    try:\n",
        "        spec = importlib.util.spec_from_file_location(\"slektstre_tree\", \"/content/slektstre/src/tree.py\")\n",
        "        slektstre_tree = importlib.util.module_from_spec(spec)\n",
        "        spec.loader.exec_module(slektstre_tree)\n",
        "        \n",
        "        # Opprett midlertidig tree modul\n",
        "        temp_tree_module = types.ModuleType('tree')\n",
        "        temp_tree_module.Slektstre = slektstre_tree.Slektstre\n",
        "        sys.modules['tree'] = temp_tree_module\n",
        "        \n",
        "        print(\"✅ tree.py lastet\")\n",
        "    except Exception as e:\n",
        "        print(f\"⚠️ tree.py feilet: {e}\")\n",
        "    \n",
        "    # Last inn family_io.py\n",
        "    try:\n",
        "        spec = importlib.util.spec_from_file_location(\"slektstre_io\", \"/content/slektstre/src/family_io.py\")\n",
        "        slektstre_io = importlib.util.module_from_spec(spec)\n",
        "        spec.loader.exec_module(slektstre_io)\n",
        "        print(\"✅ family_io.py lastet\")\n",
        "    except Exception as e:\n",
        "        print(f\"⚠️ family_io.py feilet: {e}\")\n",
        "    \n",
        "    # Last inn visualization.py\n",
        "    try:\n",
        "        spec = importlib.util.spec_from_file_location(\"slektstre_viz\", \"/content/slektstre/src/visualization.py\")\n",
        "        slektstre_viz = importlib.util.module_from_spec(spec)\n",
        "        spec.loader.exec_module(slektstre_viz)\n",
        "        print(\"✅ visualization.py lastet\")\n",
        "    except Exception as e:\n",
        "        print(f\"⚠️ visualization.py feilet: {e}\")\n",
        "    \n",
        "    print(\"✅ Slektstre-moduler lastet inn i Colab\")\n",
        "    \n",
        "except ImportError:\n",
        "    IN_COLAB = False\n",
        "    print(\"💻 Kjører lokalt / Running locally\")\n",
        "    import sys\n",
        "    sys.path.append('../src')\n",
        "except Exception as e:\n",
        "    print(f\"⚠️ Colab setup feilet: {e}\")\n",
        "    IN_COLAB = False\n",
        "    print(\"💻 Fallback til lokal modus / Fallback to local mode\")\n",
        "    import sys\n",
        "    sys.path.append('../src')\n",
        "\n",
        "print(f\"📍 Miljø: {'Google Colab' if IN_COLAB else 'Lokal'}\")\n",
        "print(f\"📍 Environment: {'Google Colab' if IN_COLAB else 'Local'}\")\n"
      ]
    },
    {
      "cell_type": "markdown",
      "metadata": {},
      "source": [
        "# Import/eksport av data\n",
        "\n",
        "I denne notebooken lærer du hvordan du importerer og eksporterer familie-data i forskjellige formater.\n",
        "\n",
        "## Støttede formater\n",
        "\n",
        "- **YAML** (anbefalt) - Lesbar struktur\n",
        "- **JSON** - Universell kompatibilitet  \n",
        "- **CSV** - Enkel tabellstruktur\n",
        "- **GEDCOM** - Genealogi-standard\n"
      ]
    },
    {
      "cell_type": "code",
      "execution_count": 2,
      "metadata": {},
      "outputs": [
        {
          "name": "stdout",
          "output_type": "stream",
          "text": [
            "✅ Alle biblioteker importert!\n"
          ]
        }
      ],
      "source": [
        "# Importer nødvendige biblioteker\n",
        "import matplotlib.pyplot as plt\n",
        "import pandas as pd\n",
        "from datetime import date\n",
        "\n",
        "# Importer slektstre-moduler (fungerer både lokalt og i Colab)\n",
        "if IN_COLAB:\n",
        "    # Bruk de modulene vi lastet inn i Colab-setup\n",
        "    Person = slektstre_models.Person\n",
        "    Gender = slektstre_models.Gender\n",
        "    Ekteskap = slektstre_models.Ekteskap\n",
        "    FamilieData = slektstre_models.FamilieData\n",
        "    Slektstre = slektstre_tree.Slektstre\n",
        "    load_from_yaml = slektstre_io.load_from_yaml\n",
        "    save_to_yaml = slektstre_io.save_to_yaml\n",
        "    load_from_json = slektstre_io.load_from_json\n",
        "    save_to_json = slektstre_io.save_to_json\n",
        "    load_from_csv = slektstre_io.load_from_csv\n",
        "    save_to_csv = slektstre_io.save_to_csv\n",
        "    export_to_gedcom = slektstre_io.export_to_gedcom\n",
        "else:\n",
        "    # Lokale imports\n",
        "    import sys\n",
        "    sys.path.append('../src')\n",
        "    from models import Person, Ekteskap, FamilieData, Gender\n",
        "    from tree import Slektstre\n",
        "    from family_io import (\n",
        "        load_from_yaml, save_to_yaml,\n",
        "        load_from_json, save_to_json,\n",
        "        load_from_csv, save_to_csv,\n",
        "        export_to_gedcom\n",
        "    )\n",
        "\n",
        "print(\"✅ Alle biblioteker importert!\")\n"
      ]
    },
    {
      "cell_type": "markdown",
      "metadata": {},
      "source": [
        "## 1. YAML Format (Anbefalt)\n",
        "\n",
        "YAML er det mest lesbare formatet for familie-data:\n"
      ]
    },
    {
      "cell_type": "code",
      "execution_count": 3,
      "metadata": {},
      "outputs": [
        {
          "name": "stdout",
          "output_type": "stream",
          "text": [
            "Familie lastet med 17 personer og 5 ekteskap\n",
            "Beskrivelse: Eksempel familie med 4 generasjoner - Lundervold familien\n",
            "\n",
            "Eksempel person: Erik Lundervold (ID: p1)\n"
          ]
        }
      ],
      "source": [
        "# Last eksempel-familie fra YAML\n",
        "if IN_COLAB:\n",
        "    familie_data = load_from_yaml('/content/slektstre/data/eksempel_familie.yaml')\n",
        "else:\n",
        "    familie_data = load_from_yaml('../data/eksempel_familie.yaml')\n",
        "\n",
        "slektstre = Slektstre(familie_data)\n",
        "\n",
        "print(f\"Familie lastet med {len(familie_data.personer)} personer og {len(familie_data.ekteskap)} ekteskap\")\n",
        "print(f\"Beskrivelse: {familie_data.beskrivelse}\")\n",
        "\n",
        "# Vis første person som eksempel\n",
        "if familie_data.personer:\n",
        "    første_person = familie_data.personer[0]\n",
        "    print(f\"\\nEksempel person: {første_person.fullt_navn} (ID: {første_person.id})\")\n"
      ]
    },
    {
      "cell_type": "code",
      "execution_count": 4,
      "metadata": {},
      "outputs": [
        {
          "name": "stdout",
          "output_type": "stream",
          "text": [
            "✅ Familie-data eksportert til eksport_familie.yaml\n"
          ]
        }
      ],
      "source": [
        "# Lagre til YAML\n",
        "save_to_yaml(familie_data, \"eksport_familie.yaml\")\n",
        "print(\"✅ Familie-data eksportert til eksport_familie.yaml\")\n"
      ]
    },
    {
      "cell_type": "markdown",
      "metadata": {},
      "source": [
        "## 2. JSON Format\n",
        "\n",
        "JSON er godt for programmatisk bruk og kompatibilitet:\n"
      ]
    },
    {
      "cell_type": "code",
      "execution_count": 5,
      "metadata": {},
      "outputs": [
        {
          "name": "stdout",
          "output_type": "stream",
          "text": [
            "✅ Familie-data eksportert til eksport_familie.json\n",
            "JSON-fil lastet med 17 personer\n"
          ]
        }
      ],
      "source": [
        "# Eksporter til JSON\n",
        "save_to_json(familie_data, \"eksport_familie.json\")\n",
        "print(\"✅ Familie-data eksportert til eksport_familie.json\")\n",
        "\n",
        "# Last fra JSON\n",
        "familie_data_json = load_from_json(\"eksport_familie.json\")\n",
        "slektstre_json = Slektstre(familie_data_json)\n",
        "\n",
        "print(f\"JSON-fil lastet med {len(familie_data_json.personer)} personer\")\n"
      ]
    },
    {
      "cell_type": "markdown",
      "metadata": {},
      "source": [
        "## 3. CSV Format\n",
        "\n",
        "CSV er enkelt for tabellbasert data. La oss lage et eksempel:\n"
      ]
    },
    {
      "cell_type": "code",
      "execution_count": 6,
      "metadata": {},
      "outputs": [
        {
          "name": "stdout",
          "output_type": "stream",
          "text": [
            "✅ Familie-data eksportert til eksport_familie.csv\n",
            "\n",
            "CSV-fil inneholder 17 rader\n",
            "\n",
            "Første 5 rader:\n",
            "   id fornavn mellomnavn   etternavn   kjønn fødselsdato    dødsdato  \\\n",
            "0  p1    Erik        NaN  Lundervold    male  1920-03-15  1995-08-22   \n",
            "1  p2  Ingrid      Marie      Hansen  female  1925-07-10  2010-12-03   \n",
            "2  p3   Arvid        NaN  Lundervold    male  1950-05-20  2022-11-15   \n",
            "3  p4  Helena      Sofia  Lundervold  female  1952-09-12         NaN   \n",
            "4  p5   Bjørn        NaN  Lundervold    male  1955-01-08         NaN   \n",
            "\n",
            "    fødested dødssted  bilde_sti                       notater  \\\n",
            "0     Bergen     Oslo        NaN  Arbeidet som ingeniør på NSB   \n",
            "1  Trondheim     Oslo        NaN       Lærer og mor til 4 barn   \n",
            "2       Oslo   Bergen        NaN       Professor i informatikk   \n",
            "3       Oslo      NaN        NaN          Arkitekt og kunstner   \n",
            "4       Oslo      NaN        NaN        Lærer og fotballtrener   \n",
            "\n",
            "                                           historier foreldre  barn  partnere  \n",
            "0  Flyktet fra Norge under krigen|Bygde sitt eget...      NaN   NaN       NaN  \n",
            "1  Møtte Erik på dans i 1947|Spilte piano og sang...      NaN   NaN       NaN  \n",
            "2  Doktorgrad fra MIT|Grunnla flere teknologisels...    p1|p2   NaN       NaN  \n",
            "3  Designet flere kjente bygninger i Bergen|Malte...    p1|p2   NaN       NaN  \n",
            "4  Spilte fotball på høyt nivå i ungdommen|Trente...    p1|p2   NaN       NaN  \n"
          ]
        }
      ],
      "source": [
        "# Eksporter til CSV\n",
        "save_to_csv(familie_data, \"eksport_familie.csv\")\n",
        "print(\"✅ Familie-data eksportert til eksport_familie.csv\")\n",
        "\n",
        "# Vis CSV-innhold\n",
        "df = pd.read_csv(\"eksport_familie.csv\")\n",
        "print(f\"\\nCSV-fil inneholder {len(df)} rader\")\n",
        "print(\"\\nFørste 5 rader:\")\n",
        "print(df.head())\n"
      ]
    },
    {
      "cell_type": "code",
      "execution_count": 7,
      "metadata": {},
      "outputs": [
        {
          "name": "stdout",
          "output_type": "stream",
          "text": [
            "CSV-fil lastet med 17 personer\n",
            "Antall ekteskap: 5\n"
          ]
        }
      ],
      "source": [
        "# Last fra CSV\n",
        "familie_data_csv = load_from_csv(\"eksport_familie.csv\")\n",
        "slektstre_csv = Slektstre(familie_data_csv)\n",
        "\n",
        "print(f\"CSV-fil lastet med {len(familie_data_csv.personer)} personer\")\n",
        "print(f\"Antall ekteskap: {len(familie_data_csv.ekteskap)}\")\n"
      ]
    },
    {
      "cell_type": "markdown",
      "metadata": {},
      "source": [
        "## 4. GEDCOM Format\n",
        "\n",
        "GEDCOM er standarden for genealogi-programmer:\n"
      ]
    },
    {
      "cell_type": "code",
      "execution_count": 8,
      "metadata": {},
      "outputs": [
        {
          "name": "stdout",
          "output_type": "stream",
          "text": [
            "✅ Familie-data eksportert til eksport_familie.ged\n",
            "\n",
            "Første 20 linjer av GEDCOM-filen:\n",
            " 1: 0 HEAD\n",
            " 2: 1 SOUR SLEKTSTRE\n",
            " 3: 1 VERS 1.0\n",
            " 4: 1 DATE 11 Oct 2025\n",
            " 5: 1 CHAR UTF8\n",
            " 6: 0 @FAM@ FAM\n",
            " 7: \n",
            " 8: 0 @p1@ INDI\n",
            " 9: 1 NAME Erik /Lundervold/\n",
            "10: 1 SEX M\n",
            "11: 1 BIRT\n",
            "12: 2 DATE 15 Mar 1920\n",
            "13: 2 PLAC Bergen\n",
            "14: 1 DEAT\n",
            "15: 2 DATE 22 Aug 1995\n",
            "16: 2 PLAC Oslo\n",
            "17: 1 NOTE Arbeidet som ingeniør på NSB\n",
            "18: \n",
            "19: 0 @p2@ INDI\n",
            "20: 1 NAME Ingrid /Hansen/\n"
          ]
        }
      ],
      "source": [
        "# Eksporter til GEDCOM\n",
        "export_to_gedcom(familie_data, \"eksport_familie.ged\")\n",
        "print(\"✅ Familie-data eksportert til eksport_familie.ged\")\n",
        "\n",
        "# Vis første linjer av GEDCOM-filen\n",
        "with open(\"eksport_familie.ged\", \"r\", encoding=\"utf-8\") as f:\n",
        "    linjer = f.readlines()[:20]\n",
        "    print(\"\\nFørste 20 linjer av GEDCOM-filen:\")\n",
        "    for i, linje in enumerate(linjer, 1):\n",
        "        print(f\"{i:2d}: {linje.rstrip()}\")\n"
      ]
    },
    {
      "cell_type": "markdown",
      "metadata": {},
      "source": [
        "## 5. Sammenligning av formater\n",
        "\n",
        "La oss sammenligne størrelsen og kompleksiteten:\n"
      ]
    },
    {
      "cell_type": "code",
      "execution_count": 9,
      "metadata": {},
      "outputs": [
        {
          "name": "stdout",
          "output_type": "stream",
          "text": [
            "📊 Filstørrelser:\n",
            "eksport_familie.yaml     :   7532 bytes\n",
            "eksport_familie.json     :  10974 bytes\n",
            "eksport_familie.csv      :   2633 bytes\n",
            "eksport_familie.ged      :   2654 bytes\n"
          ]
        }
      ],
      "source": [
        "import os\n",
        "\n",
        "# Sammenlign filstørrelser\n",
        "filer = [\"eksport_familie.yaml\", \"eksport_familie.json\", \"eksport_familie.csv\", \"eksport_familie.ged\"]\n",
        "\n",
        "print(\"📊 Filstørrelser:\")\n",
        "for fil in filer:\n",
        "    if os.path.exists(fil):\n",
        "        størrelse = os.path.getsize(fil)\n",
        "        print(f\"{fil:25s}: {størrelse:6d} bytes\")\n",
        "    else:\n",
        "        print(f\"{fil:25s}: Ikke funnet\")\n"
      ]
    },
    {
      "cell_type": "markdown",
      "metadata": {},
      "source": [
        "## 6. Validering av importerte data\n",
        "\n",
        "La oss sjekke at alle formater gir samme resultat:\n"
      ]
    },
    {
      "cell_type": "markdown",
      "metadata": {},
      "source": [
        "## GEDCOM-format\n",
        "\n",
        "GEDCOM (GEnealogical Data COMmunication) er en internasjonal standard for utveksling av genealogiske data. Det er et tekstbasert format som brukes av de fleste genealogi-programmer.\n",
        "\n",
        "### GEDCOM-struktur\n",
        "\n",
        "GEDCOM-filer består av hierarkiske linjer med følgende struktur:\n",
        "```\n",
        "NIVÅ TAG [VERDI]\n",
        "```\n",
        "\n",
        "**Eksempler:**\n",
        "```\n",
        "0 HEAD\n",
        "1 SOUR SLEKTSTRE\n",
        "1 VERS 1.0\n",
        "1 DATE 15 DEC 2024\n",
        "\n",
        "0 @p1@ INDI\n",
        "1 NAME Erik /Lundervold/\n",
        "2 GIVN Erik\n",
        "2 SURN Lundervold\n",
        "1 SEX M\n",
        "1 BIRT\n",
        "2 DATE 15 MAY 1920\n",
        "2 PLAC Bergen, Norge\n",
        "1 DEAT\n",
        "2 DATE 10 JAN 1995\n",
        "2 PLAC Oslo, Norge\n",
        "\n",
        "0 @e1@ FAM\n",
        "1 HUSB @p1@\n",
        "1 WIFE @p2@\n",
        "1 MARR\n",
        "2 DATE 20 AUG 1978\n",
        "2 PLAC Bergen, Norge\n",
        "```\n",
        "\n",
        "### GEDCOM-tagger\n",
        "\n",
        "**Person-tagger:**\n",
        "- `INDI` - Individ (person)\n",
        "- `NAME` - Navn\n",
        "- `GIVN` - Fornavn\n",
        "- `SURN` - Etternavn\n",
        "- `SEX` - Kjønn (M/F)\n",
        "- `BIRT` - Fødsel\n",
        "- `DEAT` - Død\n",
        "- `MARR` - Ekteskap\n",
        "- `DIV` - Skilsmisse\n",
        "\n",
        "**Familie-tagger:**\n",
        "- `FAM` - Familie\n",
        "- `HUSB` - Ektemann\n",
        "- `WIFE` - Ektefelle\n",
        "- `CHIL` - Barn\n",
        "\n",
        "**Metadata-tagger:**\n",
        "- `DATE` - Dato\n",
        "- `PLAC` - Sted\n",
        "- `NOTE` - Notater\n",
        "- `SOUR` - Kilde\n",
        "\n",
        "### Fordeler med GEDCOM\n",
        "\n",
        "1. **Standardisert** - Fungerer med alle genealogi-programmer\n",
        "2. **Portabel** - Enkelt å dele mellom systemer\n",
        "3. **Komplett** - Støtter alle typer genealogiske data\n",
        "4. **Lesbar** - Menneske-lesbart tekstformat\n",
        "\n",
        "### Eksport til GEDCOM\n",
        "\n",
        "Vårt slektstre-program kan eksportere data til GEDCOM-format for kompatibilitet med andre genealogi-programmer som:\n",
        "- Ancestry.com\n",
        "- FamilySearch\n",
        "- MyHeritage\n",
        "- Gramps\n",
        "- Family Tree Maker\n"
      ]
    },
    {
      "cell_type": "code",
      "execution_count": 10,
      "metadata": {},
      "outputs": [
        {
          "name": "stdout",
          "output_type": "stream",
          "text": [
            "✅ Familie-data eksportert til eksport_familie.ged\n",
            "\n",
            "📄 Første del av GEDCOM-filen:\n",
            " 1: 0 HEAD\n",
            " 2: 1 SOUR SLEKTSTRE\n",
            " 3: 1 VERS 1.0\n",
            " 4: 1 DATE 11 Oct 2025\n",
            " 5: 1 CHAR UTF8\n",
            " 6: 0 @FAM@ FAM\n",
            " 7: \n",
            " 8: 0 @p1@ INDI\n",
            " 9: 1 NAME Erik /Lundervold/\n",
            "10: 1 SEX M\n",
            "11: 1 BIRT\n",
            "12: 2 DATE 15 Mar 1920\n",
            "13: 2 PLAC Bergen\n",
            "14: 1 DEAT\n",
            "15: 2 DATE 22 Aug 1995\n",
            "16: 2 PLAC Oslo\n",
            "17: 1 NOTE Arbeidet som ingeniør på NSB\n",
            "18: \n",
            "19: 0 @p2@ INDI\n",
            "20: 1 NAME Ingrid /Hansen/\n",
            "... og 170 linjer til\n",
            "\n",
            "📊 GEDCOM-fil statistikk:\n",
            "Totalt antall linjer: 190\n",
            "Fil størrelse: 2654 bytes\n"
          ]
        }
      ],
      "source": [
        "# Eksporter til GEDCOM-format\n",
        "export_to_gedcom(familie_data, \"eksport_familie.ged\")\n",
        "print(\"✅ Familie-data eksportert til eksport_familie.ged\")\n",
        "\n",
        "# Vis første del av GEDCOM-filen\n",
        "print(\"\\n📄 Første del av GEDCOM-filen:\")\n",
        "with open(\"eksport_familie.ged\", \"r\", encoding=\"utf-8\") as f:\n",
        "    lines = f.readlines()\n",
        "    for i, line in enumerate(lines[:20]):  # Vis første 20 linjer\n",
        "        print(f\"{i+1:2d}: {line.rstrip()}\")\n",
        "    \n",
        "    if len(lines) > 20:\n",
        "        print(f\"... og {len(lines) - 20} linjer til\")\n",
        "\n",
        "print(f\"\\n📊 GEDCOM-fil statistikk:\")\n",
        "print(f\"Totalt antall linjer: {len(lines)}\")\n",
        "print(f\"Fil størrelse: {os.path.getsize('eksport_familie.ged')} bytes\")\n"
      ]
    },
    {
      "cell_type": "code",
      "execution_count": 11,
      "metadata": {},
      "outputs": [
        {
          "name": "stdout",
          "output_type": "stream",
          "text": [
            "📊 Sammenligning av alle eksporterte formater:\n",
            "Format     Fil størrelse    Personer   Ekteskap\n",
            "==================================================\n",
            "YAML           7532 bytes          17          5\n",
            "JSON          10974 bytes          17          5\n",
            "CSV            3041 bytes          17          5\n",
            "GEDCOM         2654 bytes          17          5\n",
            "\n",
            "💡 Tips:\n",
            "- YAML: Best for menneske-lesbarhet og redigering\n",
            "- JSON: Best for programmatisk bruk og API-er\n",
            "- CSV: Best for Excel og enkle dataanalyser\n",
            "- GEDCOM: Best for kompatibilitet med genealogi-programmer\n"
          ]
        }
      ],
      "source": [
        "# Sammenlign alle eksporterte formater\n",
        "print(\"📊 Sammenligning av alle eksporterte formater:\")\n",
        "print(\"Format     Fil størrelse    Personer   Ekteskap\")\n",
        "print(\"=\" * 50)\n",
        "\n",
        "# YAML\n",
        "yaml_size = os.path.getsize(\"eksport_familie.yaml\")\n",
        "print(f\"YAML       {yaml_size:8d} bytes    {len(familie_data.personer):8d}   {len(familie_data.ekteskap):8d}\")\n",
        "\n",
        "# JSON\n",
        "json_size = os.path.getsize(\"eksport_familie.json\")\n",
        "print(f\"JSON       {json_size:8d} bytes    {len(familie_data.personer):8d}   {len(familie_data.ekteskap):8d}\")\n",
        "\n",
        "# CSV\n",
        "csv_size = os.path.getsize(\"eksport_familie.csv\")\n",
        "csv_ekteskap_size = os.path.getsize(\"eksport_familie_ekteskap.csv\")\n",
        "print(f\"CSV        {csv_size + csv_ekteskap_size:8d} bytes    {len(familie_data.personer):8d}   {len(familie_data.ekteskap):8d}\")\n",
        "\n",
        "# GEDCOM\n",
        "gedcom_size = os.path.getsize(\"eksport_familie.ged\")\n",
        "print(f\"GEDCOM     {gedcom_size:8d} bytes    {len(familie_data.personer):8d}   {len(familie_data.ekteskap):8d}\")\n",
        "\n",
        "print(\"\\n💡 Tips:\")\n",
        "print(\"- YAML: Best for menneske-lesbarhet og redigering\")\n",
        "print(\"- JSON: Best for programmatisk bruk og API-er\")\n",
        "print(\"- CSV: Best for Excel og enkle dataanalyser\")\n",
        "print(\"- GEDCOM: Best for kompatibilitet med genealogi-programmer\")\n"
      ]
    },
    {
      "cell_type": "code",
      "execution_count": 12,
      "metadata": {},
      "outputs": [
        {
          "name": "stdout",
          "output_type": "stream",
          "text": [
            "📋 Sammenligning av importerte data:\n",
            "Format   Personer   Ekteskap  \n",
            "------------------------------\n",
            "YAML     17         5         \n",
            "JSON     17         5         \n",
            "CSV      17         5         \n",
            "\n",
            "✅ Alle formater har samme antall personer!\n"
          ]
        }
      ],
      "source": [
        "# Sammenlign antall personer og ekteskap\n",
        "formater = {\n",
        "    \"YAML\": familie_data,\n",
        "    \"JSON\": familie_data_json,\n",
        "    \"CSV\": familie_data_csv\n",
        "}\n",
        "\n",
        "print(\"📋 Sammenligning av importerte data:\")\n",
        "print(f\"{'Format':<8} {'Personer':<10} {'Ekteskap':<10}\")\n",
        "print(\"-\" * 30)\n",
        "\n",
        "for format_navn, data in formater.items():\n",
        "    print(f\"{format_navn:<8} {len(data.personer):<10} {len(data.ekteskap):<10}\")\n",
        "\n",
        "# Sjekk at alle har samme antall personer\n",
        "antall_personer = [len(data.personer) for data in formater.values()]\n",
        "if len(set(antall_personer)) == 1:\n",
        "    print(\"\\n✅ Alle formater har samme antall personer!\")\n",
        "else:\n",
        "    print(\"\\n⚠️ Formater har forskjellig antall personer\")\n"
      ]
    },
    {
      "cell_type": "markdown",
      "metadata": {},
      "source": [
        "## 7. Rydde opp\n",
        "\n",
        "La oss slette de midlertidige filene:\n"
      ]
    },
    {
      "cell_type": "code",
      "execution_count": 13,
      "metadata": {},
      "outputs": [
        {
          "name": "stdout",
          "output_type": "stream",
          "text": [
            "🗑️ Slettet eksport_familie.yaml\n",
            "🗑️ Slettet eksport_familie.json\n",
            "🗑️ Slettet eksport_familie.csv\n",
            "🗑️ Slettet eksport_familie.ged\n",
            "\n",
            "✅ Opprydding fullført!\n"
          ]
        }
      ],
      "source": [
        "# Slett midlertidige filer\n",
        "import os\n",
        "\n",
        "filer_til_sletting = [\n",
        "    \"eksport_familie.yaml\",\n",
        "    \"eksport_familie.json\", \n",
        "    \"eksport_familie.csv\",\n",
        "    \"eksport_familie.ged\"\n",
        "]\n",
        "\n",
        "for fil in filer_til_sletting:\n",
        "    if os.path.exists(fil):\n",
        "        os.remove(fil)\n",
        "        print(f\"🗑️ Slettet {fil}\")\n",
        "\n",
        "print(\"\\n✅ Opprydding fullført!\")\n"
      ]
    },
    {
      "cell_type": "markdown",
      "metadata": {},
      "source": [
        "## Oppsummering\n",
        "\n",
        "I denne notebooken har du lært:\n",
        "\n",
        "1. ✅ **YAML** - Lesbar struktur, anbefalt format\n",
        "2. ✅ **JSON** - Programmatisk kompatibilitet\n",
        "3. ✅ **CSV** - Enkel tabellstruktur\n",
        "4. ✅ **GEDCOM** - Genealogi-standard\n",
        "5. ✅ Sammenligning av formater\n",
        "6. ✅ Validering av importerte data\n",
        "7. ✅ Opprydding av midlertidige filer\n",
        "\n",
        "**Anbefalinger**:\n",
        "- Bruk **YAML** for manuell redigering\n",
        "- Bruk **JSON** for programmatisk bruk\n",
        "- Bruk **CSV** for enkel dataoverføring\n",
        "- Bruk **GEDCOM** for kompatibilitet med andre genealogi-programmer\n",
        "\n",
        "**Neste steg**: Gå til `04_visualisering.ipynb` for å utforske alle visualiseringsalternativer.\n"
      ]
    },
    {
      "cell_type": "markdown",
      "metadata": {},
      "source": []
    },
    {
      "cell_type": "markdown",
      "metadata": {},
      "source": []
    }
  ],
  "metadata": {
    "kernelspec": {
      "display_name": "slektstre",
      "language": "python",
      "name": "python3"
    },
    "language_info": {
      "codemirror_mode": {
        "name": "ipython",
        "version": 3
      },
      "file_extension": ".py",
      "mimetype": "text/x-python",
      "name": "python",
      "nbconvert_exporter": "python",
      "pygments_lexer": "ipython3",
      "version": "3.12.11"
    }
  },
  "nbformat": 4,
  "nbformat_minor": 2
}
